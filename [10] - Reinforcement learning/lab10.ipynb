{
 "cells": [
  {
   "cell_type": "markdown",
   "metadata": {
    "id": "m2s4kN_QPQVe"
   },
   "source": [
    "# Введение в обучение с подкреплением  (Reinforcement Learning)\n",
    "\n",
    "\n",
    "<center>\n",
    "<img src=\"https://raw.githubusercontent.com/jcformanek/jcformanek.github.io/master/docs/assets/images/rl_in_space.png\" width=\"100%\" />\n",
    "</center>\n",
    "\n",
    "\n",
    "\n",
    "**Введение**\n",
    "\n",
    "На этом семинаре мы изучим обучение с подкреплением - тип машинного обучения без учителя, где агент учится выбирать действия, которые приводят к максимальному вознаграждению в долгосрочной перспективе. Обучение с подкреплением используется в широком спектре сложных задач, в том числе - в видеоиграх, например, [Atari](https://www.deepmind.com/blog/agent57-outperforming-the-human-atari-benchmark), [StarCraft II](https://www.deepmind.com/blog/alphastar-mastering-the-real-time-strategy-game-starcraft-ii) и [Dota II](https://openai.com/five/).\n",
    "\n",
    "На семинаре изучим классическую среду - [CartPole](https://www.gymlibrary.ml/environments/classic_control/cart_pole/), где агент должен научиться балансировать шестом на тележке (см лекцию), используя несколько различных подходов RL. По пути вы познакомитесь с некоторыми из самых важных концепций и терминологии в RL.\n",
    "\n",
    "**Темы:**\n",
    "* Reinforcement Learning (RL, Обучение с подкреплением)\n",
    "* Random Policy Search (Случайный поиск политики)\n",
    "* Policy Gradient (Градиент политики)\n",
    "* Q-Learning\n",
    "\n",
    "\n",
    "**Что надо сделать для лучшего понимания:**\n",
    "\n",
    "* почитать про библиотеку [JAX](https://github.com/google/jax).\n",
    "* вспомнить нейроки.\n",
    "\n"
   ]
  },
  {
   "cell_type": "markdown",
   "metadata": {
    "id": "6EqhIg1odqg0"
   },
   "source": [
    "### Настраиваем среду"
   ]
  },
  {
   "cell_type": "code",
   "execution_count": 91,
   "metadata": {
    "executionInfo": {
     "elapsed": 61255,
     "status": "ok",
     "timestamp": 1733573121017,
     "user": {
      "displayName": "Владислав Ладыгин",
      "userId": "15124880944112457695"
     },
     "user_tz": -300
    },
    "id": "4boGA9rYdt9l"
   },
   "outputs": [
    {
     "name": "stdout",
     "output_type": "stream",
     "text": [
      "Requirement already satisfied: jaxlib in c:\\python311\\lib\\site-packages (0.4.38)\n",
      "Requirement already satisfied: scipy>=1.10 in c:\\python311\\lib\\site-packages (from jaxlib) (1.12.0)\n",
      "Requirement already satisfied: numpy>=1.24 in c:\\python311\\lib\\site-packages (from jaxlib) (1.26.3)\n",
      "Requirement already satisfied: ml-dtypes>=0.2.0 in c:\\python311\\lib\\site-packages (from jaxlib) (0.5.0)\n",
      "Note: you may need to restart the kernel to use updated packages.\n"
     ]
    },
    {
     "name": "stderr",
     "output_type": "stream",
     "text": [
      "WARNING: Ignoring invalid distribution ~ip (c:\\Python311\\Lib\\site-packages)\n",
      "WARNING: Ignoring invalid distribution ~orch (c:\\Python311\\Lib\\site-packages)\n",
      "DEPRECATION: Loading egg at c:\\python311\\lib\\site-packages\\vboxapi-1.0-py3.11.egg is deprecated. pip 25.1 will enforce this behaviour change. A possible replacement is to use pip for package installation. Discussion can be found at https://github.com/pypa/pip/issues/12330\n",
      "WARNING: Ignoring invalid distribution ~ip (c:\\Python311\\Lib\\site-packages)\n",
      "WARNING: Ignoring invalid distribution ~orch (c:\\Python311\\Lib\\site-packages)\n",
      "WARNING: Ignoring invalid distribution ~ip (c:\\Python311\\Lib\\site-packages)\n",
      "WARNING: Ignoring invalid distribution ~orch (c:\\Python311\\Lib\\site-packages)\n"
     ]
    },
    {
     "name": "stdout",
     "output_type": "stream",
     "text": [
      "Requirement already satisfied: jax in c:\\python311\\lib\\site-packages (0.4.38)\n",
      "Requirement already satisfied: jaxlib<=0.4.38,>=0.4.38 in c:\\python311\\lib\\site-packages (from jax) (0.4.38)\n",
      "Requirement already satisfied: ml_dtypes>=0.4.0 in c:\\python311\\lib\\site-packages (from jax) (0.5.0)\n",
      "Requirement already satisfied: numpy>=1.24 in c:\\python311\\lib\\site-packages (from jax) (1.26.3)\n",
      "Requirement already satisfied: opt_einsum in c:\\python311\\lib\\site-packages (from jax) (3.3.0)\n",
      "Requirement already satisfied: scipy>=1.10 in c:\\python311\\lib\\site-packages (from jax) (1.12.0)\n",
      "Note: you may need to restart the kernel to use updated packages.\n"
     ]
    },
    {
     "name": "stderr",
     "output_type": "stream",
     "text": [
      "WARNING: Ignoring invalid distribution ~ip (c:\\Python311\\Lib\\site-packages)\n",
      "WARNING: Ignoring invalid distribution ~orch (c:\\Python311\\Lib\\site-packages)\n",
      "DEPRECATION: Loading egg at c:\\python311\\lib\\site-packages\\vboxapi-1.0-py3.11.egg is deprecated. pip 25.1 will enforce this behaviour change. A possible replacement is to use pip for package installation. Discussion can be found at https://github.com/pypa/pip/issues/12330\n",
      "WARNING: Ignoring invalid distribution ~ip (c:\\Python311\\Lib\\site-packages)\n",
      "WARNING: Ignoring invalid distribution ~orch (c:\\Python311\\Lib\\site-packages)\n",
      "WARNING: Ignoring invalid distribution ~ip (c:\\Python311\\Lib\\site-packages)\n",
      "WARNING: Ignoring invalid distribution ~orch (c:\\Python311\\Lib\\site-packages)\n"
     ]
    },
    {
     "name": "stdout",
     "output_type": "stream",
     "text": [
      "Collecting git+https://github.com/deepmind/dm-haiku\n",
      "  Cloning https://github.com/deepmind/dm-haiku to c:\\users\\max6k\\appdata\\local\\temp\\pip-req-build-fccog5ck\n",
      "  Resolved https://github.com/deepmind/dm-haiku to commit a32b885949300989b9822eb26142216b37a27f51\n",
      "  Preparing metadata (setup.py): started\n",
      "  Preparing metadata (setup.py): finished with status 'done'\n",
      "Requirement already satisfied: absl-py>=0.7.1 in c:\\python311\\lib\\site-packages (from dm-haiku==0.0.14.dev0) (2.1.0)\n",
      "Requirement already satisfied: jmp>=0.0.2 in c:\\python311\\lib\\site-packages (from dm-haiku==0.0.14.dev0) (0.0.4)\n",
      "Requirement already satisfied: numpy>=1.18.0 in c:\\python311\\lib\\site-packages (from dm-haiku==0.0.14.dev0) (1.26.3)\n",
      "Requirement already satisfied: tabulate>=0.8.9 in c:\\python311\\lib\\site-packages (from dm-haiku==0.0.14.dev0) (0.9.0)\n",
      "Note: you may need to restart the kernel to use updated packages.\n"
     ]
    },
    {
     "name": "stderr",
     "output_type": "stream",
     "text": [
      "WARNING: Ignoring invalid distribution ~ip (c:\\Python311\\Lib\\site-packages)\n",
      "WARNING: Ignoring invalid distribution ~orch (c:\\Python311\\Lib\\site-packages)\n",
      "DEPRECATION: Loading egg at c:\\python311\\lib\\site-packages\\vboxapi-1.0-py3.11.egg is deprecated. pip 25.1 will enforce this behaviour change. A possible replacement is to use pip for package installation. Discussion can be found at https://github.com/pypa/pip/issues/12330\n",
      "  Running command git clone --filter=blob:none --quiet https://github.com/deepmind/dm-haiku 'C:\\Users\\max6k\\AppData\\Local\\Temp\\pip-req-build-fccog5ck'\n",
      "WARNING: Ignoring invalid distribution ~ip (c:\\Python311\\Lib\\site-packages)\n",
      "WARNING: Ignoring invalid distribution ~orch (c:\\Python311\\Lib\\site-packages)\n",
      "WARNING: Ignoring invalid distribution ~ip (c:\\Python311\\Lib\\site-packages)\n",
      "WARNING: Ignoring invalid distribution ~orch (c:\\Python311\\Lib\\site-packages)\n"
     ]
    },
    {
     "name": "stdout",
     "output_type": "stream",
     "text": [
      "Requirement already satisfied: gym==0.25 in c:\\python311\\lib\\site-packages (0.25.0)\n",
      "Requirement already satisfied: numpy>=1.18.0 in c:\\python311\\lib\\site-packages (from gym==0.25) (1.26.3)\n",
      "Requirement already satisfied: cloudpickle>=1.2.0 in c:\\python311\\lib\\site-packages (from gym==0.25) (3.1.0)\n",
      "Requirement already satisfied: gym_notices>=0.0.4 in c:\\python311\\lib\\site-packages (from gym==0.25) (0.0.8)\n",
      "Note: you may need to restart the kernel to use updated packages.\n"
     ]
    },
    {
     "name": "stderr",
     "output_type": "stream",
     "text": [
      "WARNING: Ignoring invalid distribution ~ip (c:\\Python311\\Lib\\site-packages)\n",
      "WARNING: Ignoring invalid distribution ~orch (c:\\Python311\\Lib\\site-packages)\n",
      "DEPRECATION: Loading egg at c:\\python311\\lib\\site-packages\\vboxapi-1.0-py3.11.egg is deprecated. pip 25.1 will enforce this behaviour change. A possible replacement is to use pip for package installation. Discussion can be found at https://github.com/pypa/pip/issues/12330\n",
      "WARNING: Ignoring invalid distribution ~ip (c:\\Python311\\Lib\\site-packages)\n",
      "WARNING: Ignoring invalid distribution ~orch (c:\\Python311\\Lib\\site-packages)\n",
      "WARNING: Ignoring invalid distribution ~ip (c:\\Python311\\Lib\\site-packages)\n",
      "WARNING: Ignoring invalid distribution ~orch (c:\\Python311\\Lib\\site-packages)\n"
     ]
    },
    {
     "name": "stdout",
     "output_type": "stream",
     "text": [
      "Requirement already satisfied: gym[box2d] in c:\\python311\\lib\\site-packages (0.25.0)\n",
      "Requirement already satisfied: numpy>=1.18.0 in c:\\python311\\lib\\site-packages (from gym[box2d]) (1.26.3)\n",
      "Requirement already satisfied: cloudpickle>=1.2.0 in c:\\python311\\lib\\site-packages (from gym[box2d]) (3.1.0)\n",
      "Requirement already satisfied: gym_notices>=0.0.4 in c:\\python311\\lib\\site-packages (from gym[box2d]) (0.0.8)\n",
      "Collecting box2d-py==2.3.5 (from gym[box2d])\n",
      "  Using cached box2d-py-2.3.5.tar.gz (374 kB)\n",
      "  Preparing metadata (setup.py): started\n",
      "  Preparing metadata (setup.py): finished with status 'done'\n",
      "Collecting pygame==2.1.0 (from gym[box2d])\n",
      "  Using cached pygame-2.1.0.tar.gz (5.8 MB)\n",
      "  Preparing metadata (setup.py): started\n",
      "  Preparing metadata (setup.py): finished with status 'error'\n",
      "Note: you may need to restart the kernel to use updated packages.\n"
     ]
    },
    {
     "name": "stderr",
     "output_type": "stream",
     "text": [
      "WARNING: Ignoring invalid distribution ~ip (c:\\Python311\\Lib\\site-packages)\n",
      "WARNING: Ignoring invalid distribution ~orch (c:\\Python311\\Lib\\site-packages)\n",
      "DEPRECATION: Loading egg at c:\\python311\\lib\\site-packages\\vboxapi-1.0-py3.11.egg is deprecated. pip 25.1 will enforce this behaviour change. A possible replacement is to use pip for package installation. Discussion can be found at https://github.com/pypa/pip/issues/12330\n",
      "  error: subprocess-exited-with-error\n",
      "  \n",
      "  × python setup.py egg_info did not run successfully.\n",
      "  │ exit code: 1\n",
      "  ╰─> [43 lines of output]\n",
      "      \n",
      "      \n",
      "      WARNING, No \"Setup\" File Exists, Running \"buildconfig/config.py\"\n",
      "      Using WINDOWS configuration...\n",
      "      \n",
      "      Making dir :prebuilt_downloads:\n",
      "      Downloading... https://www.libsdl.org/release/SDL2-devel-2.0.16-VC.zip 13d952c333f3c2ebe9b7bc0075b4ad2f784e7584\n",
      "      Unzipping :prebuilt_downloads\\SDL2-devel-2.0.16-VC.zip:\n",
      "      Downloading... https://www.libsdl.org/projects/SDL_image/release/SDL2_image-devel-2.0.5-VC.zip 137f86474691f4e12e76e07d58d5920c8d844d5b\n",
      "      Unzipping :prebuilt_downloads\\SDL2_image-devel-2.0.5-VC.zip:\n",
      "      Downloading... https://www.libsdl.org/projects/SDL_ttf/release/SDL2_ttf-devel-2.0.15-VC.zip 1436df41ebc47ac36e02ec9bda5699e80ff9bd27\n",
      "      Unzipping :prebuilt_downloads\\SDL2_ttf-devel-2.0.15-VC.zip:\n",
      "      Downloading... https://www.libsdl.org/projects/SDL_mixer/release/SDL2_mixer-devel-2.0.4-VC.zip 9097148f4529cf19f805ccd007618dec280f0ecc\n",
      "      Unzipping :prebuilt_downloads\\SDL2_mixer-devel-2.0.4-VC.zip:\n",
      "      Downloading... https://www.pygame.org/ftp/jpegsr9d.zip ed10aa2b5a0fcfe74f8a6f7611aeb346b06a1f99\n",
      "      \n",
      "      ---\n",
      "      For help with compilation see:\n",
      "          https://www.pygame.org/wiki/CompileWindows\n",
      "      To contribute to pygame development see:\n",
      "          https://www.pygame.org/contribute.html\n",
      "      ---\n",
      "      \n",
      "      Traceback (most recent call last):\n",
      "        File \"<string>\", line 2, in <module>\n",
      "        File \"<pip-setuptools-caller>\", line 34, in <module>\n",
      "        File \"C:\\Users\\max6k\\AppData\\Local\\Temp\\pip-install-zdb9hyfv\\pygame_c710432a8b994df7b8985a67e9edb748\\setup.py\", line 388, in <module>\n",
      "          buildconfig.config.main(AUTO_CONFIG)\n",
      "        File \"C:\\Users\\max6k\\AppData\\Local\\Temp\\pip-install-zdb9hyfv\\pygame_c710432a8b994df7b8985a67e9edb748\\buildconfig\\config.py\", line 234, in main\n",
      "          deps = CFG.main(**kwds)\n",
      "                 ^^^^^^^^^^^^^^^^\n",
      "        File \"C:\\Users\\max6k\\AppData\\Local\\Temp\\pip-install-zdb9hyfv\\pygame_c710432a8b994df7b8985a67e9edb748\\buildconfig\\config_win.py\", line 497, in main\n",
      "          and download_win_prebuilt.ask(**download_kwargs):\n",
      "              ^^^^^^^^^^^^^^^^^^^^^^^^^^^^^^^^^^^^^^^^^^^^\n",
      "        File \"C:\\Users\\max6k\\AppData\\Local\\Temp\\pip-install-zdb9hyfv\\pygame_c710432a8b994df7b8985a67e9edb748\\buildconfig\\download_win_prebuilt.py\", line 290, in ask\n",
      "          update(x86=x86, x64=x64)\n",
      "        File \"C:\\Users\\max6k\\AppData\\Local\\Temp\\pip-install-zdb9hyfv\\pygame_c710432a8b994df7b8985a67e9edb748\\buildconfig\\download_win_prebuilt.py\", line 273, in update\n",
      "          download_prebuilts(download_dir, x86=x86, x64=x64)\n",
      "        File \"C:\\Users\\max6k\\AppData\\Local\\Temp\\pip-install-zdb9hyfv\\pygame_c710432a8b994df7b8985a67e9edb748\\buildconfig\\download_win_prebuilt.py\", line 124, in download_prebuilts\n",
      "          download_sha1_unzip(url, checksum, temp_dir, 1)\n",
      "        File \"C:\\Users\\max6k\\AppData\\Local\\Temp\\pip-install-zdb9hyfv\\pygame_c710432a8b994df7b8985a67e9edb748\\buildconfig\\download_win_prebuilt.py\", line 58, in download_sha1_unzip\n",
      "          raise ValueError(\n",
      "      ValueError: url:https://www.pygame.org/ftp/jpegsr9d.zip should have checksum:ed10aa2b5a0fcfe74f8a6f7611aeb346b06a1f99: Has:e1c29b63cf031ecbe7c106bb21a174a947cd5e22:\n",
      "      [end of output]\n",
      "  \n",
      "  note: This error originates from a subprocess, and is likely not a problem with pip.\n",
      "error: metadata-generation-failed\n",
      "\n",
      "× Encountered error while generating package metadata.\n",
      "╰─> See above for output.\n",
      "\n",
      "note: This is an issue with the package mentioned above, not pip.\n",
      "hint: See above for details.\n"
     ]
    },
    {
     "name": "stdout",
     "output_type": "stream",
     "text": [
      "Requirement already satisfied: optax in c:\\python311\\lib\\site-packages (0.2.4)\n",
      "Requirement already satisfied: absl-py>=0.7.1 in c:\\python311\\lib\\site-packages (from optax) (2.1.0)\n",
      "Requirement already satisfied: chex>=0.1.87 in c:\\python311\\lib\\site-packages (from optax) (0.1.88)\n",
      "Requirement already satisfied: jax>=0.4.27 in c:\\python311\\lib\\site-packages (from optax) (0.4.38)\n",
      "Requirement already satisfied: jaxlib>=0.4.27 in c:\\python311\\lib\\site-packages (from optax) (0.4.38)\n",
      "Requirement already satisfied: numpy>=1.18.0 in c:\\python311\\lib\\site-packages (from optax) (1.26.3)\n",
      "Requirement already satisfied: etils[epy] in c:\\python311\\lib\\site-packages (from optax) (1.11.0)\n",
      "Requirement already satisfied: typing_extensions>=4.2.0 in c:\\python311\\lib\\site-packages (from chex>=0.1.87->optax) (4.9.0)\n",
      "Requirement already satisfied: toolz>=0.9.0 in c:\\python311\\lib\\site-packages (from chex>=0.1.87->optax) (1.0.0)\n",
      "Requirement already satisfied: ml_dtypes>=0.4.0 in c:\\python311\\lib\\site-packages (from jax>=0.4.27->optax) (0.5.0)\n",
      "Requirement already satisfied: opt_einsum in c:\\python311\\lib\\site-packages (from jax>=0.4.27->optax) (3.3.0)\n",
      "Requirement already satisfied: scipy>=1.10 in c:\\python311\\lib\\site-packages (from jax>=0.4.27->optax) (1.12.0)\n",
      "Note: you may need to restart the kernel to use updated packages.\n"
     ]
    },
    {
     "name": "stderr",
     "output_type": "stream",
     "text": [
      "WARNING: Ignoring invalid distribution ~ip (c:\\Python311\\Lib\\site-packages)\n",
      "WARNING: Ignoring invalid distribution ~orch (c:\\Python311\\Lib\\site-packages)\n",
      "DEPRECATION: Loading egg at c:\\python311\\lib\\site-packages\\vboxapi-1.0-py3.11.egg is deprecated. pip 25.1 will enforce this behaviour change. A possible replacement is to use pip for package installation. Discussion can be found at https://github.com/pypa/pip/issues/12330\n",
      "WARNING: Ignoring invalid distribution ~ip (c:\\Python311\\Lib\\site-packages)\n",
      "WARNING: Ignoring invalid distribution ~orch (c:\\Python311\\Lib\\site-packages)\n",
      "WARNING: Ignoring invalid distribution ~ip (c:\\Python311\\Lib\\site-packages)\n",
      "WARNING: Ignoring invalid distribution ~orch (c:\\Python311\\Lib\\site-packages)\n"
     ]
    },
    {
     "name": "stdout",
     "output_type": "stream",
     "text": [
      "Requirement already satisfied: matplotlib in c:\\python311\\lib\\site-packages (3.8.2)\n",
      "Requirement already satisfied: contourpy>=1.0.1 in c:\\python311\\lib\\site-packages (from matplotlib) (1.2.0)\n",
      "Requirement already satisfied: cycler>=0.10 in c:\\python311\\lib\\site-packages (from matplotlib) (0.12.1)\n",
      "Requirement already satisfied: fonttools>=4.22.0 in c:\\python311\\lib\\site-packages (from matplotlib) (4.48.1)\n",
      "Requirement already satisfied: kiwisolver>=1.3.1 in c:\\python311\\lib\\site-packages (from matplotlib) (1.4.5)\n",
      "Requirement already satisfied: numpy<2,>=1.21 in c:\\python311\\lib\\site-packages (from matplotlib) (1.26.3)\n",
      "Requirement already satisfied: packaging>=20.0 in c:\\python311\\lib\\site-packages (from matplotlib) (23.2)\n",
      "Requirement already satisfied: pillow>=8 in c:\\python311\\lib\\site-packages (from matplotlib) (10.2.0)\n",
      "Requirement already satisfied: pyparsing>=2.3.1 in c:\\python311\\lib\\site-packages (from matplotlib) (3.1.1)\n",
      "Requirement already satisfied: python-dateutil>=2.7 in c:\\python311\\lib\\site-packages (from matplotlib) (2.8.2)\n",
      "Requirement already satisfied: six>=1.5 in c:\\python311\\lib\\site-packages (from python-dateutil>=2.7->matplotlib) (1.16.0)\n",
      "Note: you may need to restart the kernel to use updated packages.\n"
     ]
    },
    {
     "name": "stderr",
     "output_type": "stream",
     "text": [
      "WARNING: Ignoring invalid distribution ~ip (c:\\Python311\\Lib\\site-packages)\n",
      "WARNING: Ignoring invalid distribution ~orch (c:\\Python311\\Lib\\site-packages)\n",
      "DEPRECATION: Loading egg at c:\\python311\\lib\\site-packages\\vboxapi-1.0-py3.11.egg is deprecated. pip 25.1 will enforce this behaviour change. A possible replacement is to use pip for package installation. Discussion can be found at https://github.com/pypa/pip/issues/12330\n",
      "WARNING: Ignoring invalid distribution ~ip (c:\\Python311\\Lib\\site-packages)\n",
      "WARNING: Ignoring invalid distribution ~orch (c:\\Python311\\Lib\\site-packages)\n",
      "WARNING: Ignoring invalid distribution ~ip (c:\\Python311\\Lib\\site-packages)\n",
      "WARNING: Ignoring invalid distribution ~orch (c:\\Python311\\Lib\\site-packages)\n"
     ]
    },
    {
     "name": "stdout",
     "output_type": "stream",
     "text": [
      "Requirement already satisfied: chex in c:\\python311\\lib\\site-packages (0.1.88)\n",
      "Requirement already satisfied: absl-py>=0.9.0 in c:\\python311\\lib\\site-packages (from chex) (2.1.0)\n",
      "Requirement already satisfied: typing_extensions>=4.2.0 in c:\\python311\\lib\\site-packages (from chex) (4.9.0)\n",
      "Requirement already satisfied: jax>=0.4.27 in c:\\python311\\lib\\site-packages (from chex) (0.4.38)\n",
      "Requirement already satisfied: jaxlib>=0.4.27 in c:\\python311\\lib\\site-packages (from chex) (0.4.38)\n",
      "Requirement already satisfied: numpy>=1.24.1 in c:\\python311\\lib\\site-packages (from chex) (1.26.3)\n",
      "Requirement already satisfied: toolz>=0.9.0 in c:\\python311\\lib\\site-packages (from chex) (1.0.0)\n",
      "Requirement already satisfied: ml_dtypes>=0.4.0 in c:\\python311\\lib\\site-packages (from jax>=0.4.27->chex) (0.5.0)\n",
      "Requirement already satisfied: opt_einsum in c:\\python311\\lib\\site-packages (from jax>=0.4.27->chex) (3.3.0)\n",
      "Requirement already satisfied: scipy>=1.10 in c:\\python311\\lib\\site-packages (from jax>=0.4.27->chex) (1.12.0)\n",
      "Note: you may need to restart the kernel to use updated packages.\n"
     ]
    },
    {
     "name": "stderr",
     "output_type": "stream",
     "text": [
      "WARNING: Ignoring invalid distribution ~ip (c:\\Python311\\Lib\\site-packages)\n",
      "WARNING: Ignoring invalid distribution ~orch (c:\\Python311\\Lib\\site-packages)\n",
      "DEPRECATION: Loading egg at c:\\python311\\lib\\site-packages\\vboxapi-1.0-py3.11.egg is deprecated. pip 25.1 will enforce this behaviour change. A possible replacement is to use pip for package installation. Discussion can be found at https://github.com/pypa/pip/issues/12330\n",
      "WARNING: Ignoring invalid distribution ~ip (c:\\Python311\\Lib\\site-packages)\n",
      "WARNING: Ignoring invalid distribution ~orch (c:\\Python311\\Lib\\site-packages)\n",
      "WARNING: Ignoring invalid distribution ~ip (c:\\Python311\\Lib\\site-packages)\n",
      "WARNING: Ignoring invalid distribution ~orch (c:\\Python311\\Lib\\site-packages)\n"
     ]
    },
    {
     "name": "stdout",
     "output_type": "stream",
     "text": [
      "Requirement already satisfied: gym[classic_control] in c:\\python311\\lib\\site-packages (0.25.0)\n",
      "Requirement already satisfied: numpy>=1.18.0 in c:\\python311\\lib\\site-packages (from gym[classic_control]) (1.26.3)\n",
      "Requirement already satisfied: cloudpickle>=1.2.0 in c:\\python311\\lib\\site-packages (from gym[classic_control]) (3.1.0)\n",
      "Requirement already satisfied: gym_notices>=0.0.4 in c:\\python311\\lib\\site-packages (from gym[classic_control]) (0.0.8)\n",
      "Collecting pygame==2.1.0 (from gym[classic_control])\n",
      "  Using cached pygame-2.1.0.tar.gz (5.8 MB)\n",
      "  Preparing metadata (setup.py): started\n",
      "  Preparing metadata (setup.py): finished with status 'error'\n",
      "Note: you may need to restart the kernel to use updated packages.\n"
     ]
    },
    {
     "name": "stderr",
     "output_type": "stream",
     "text": [
      "WARNING: Ignoring invalid distribution ~ip (c:\\Python311\\Lib\\site-packages)\n",
      "WARNING: Ignoring invalid distribution ~orch (c:\\Python311\\Lib\\site-packages)\n",
      "DEPRECATION: Loading egg at c:\\python311\\lib\\site-packages\\vboxapi-1.0-py3.11.egg is deprecated. pip 25.1 will enforce this behaviour change. A possible replacement is to use pip for package installation. Discussion can be found at https://github.com/pypa/pip/issues/12330\n",
      "  error: subprocess-exited-with-error\n",
      "  \n",
      "  × python setup.py egg_info did not run successfully.\n",
      "  │ exit code: 1\n",
      "  ╰─> [43 lines of output]\n",
      "      \n",
      "      \n",
      "      WARNING, No \"Setup\" File Exists, Running \"buildconfig/config.py\"\n",
      "      Using WINDOWS configuration...\n",
      "      \n",
      "      Making dir :prebuilt_downloads:\n",
      "      Downloading... https://www.libsdl.org/release/SDL2-devel-2.0.16-VC.zip 13d952c333f3c2ebe9b7bc0075b4ad2f784e7584\n",
      "      Unzipping :prebuilt_downloads\\SDL2-devel-2.0.16-VC.zip:\n",
      "      Downloading... https://www.libsdl.org/projects/SDL_image/release/SDL2_image-devel-2.0.5-VC.zip 137f86474691f4e12e76e07d58d5920c8d844d5b\n",
      "      Unzipping :prebuilt_downloads\\SDL2_image-devel-2.0.5-VC.zip:\n",
      "      Downloading... https://www.libsdl.org/projects/SDL_ttf/release/SDL2_ttf-devel-2.0.15-VC.zip 1436df41ebc47ac36e02ec9bda5699e80ff9bd27\n",
      "      Unzipping :prebuilt_downloads\\SDL2_ttf-devel-2.0.15-VC.zip:\n",
      "      Downloading... https://www.libsdl.org/projects/SDL_mixer/release/SDL2_mixer-devel-2.0.4-VC.zip 9097148f4529cf19f805ccd007618dec280f0ecc\n",
      "      Unzipping :prebuilt_downloads\\SDL2_mixer-devel-2.0.4-VC.zip:\n",
      "      Downloading... https://www.pygame.org/ftp/jpegsr9d.zip ed10aa2b5a0fcfe74f8a6f7611aeb346b06a1f99\n",
      "      \n",
      "      ---\n",
      "      For help with compilation see:\n",
      "          https://www.pygame.org/wiki/CompileWindows\n",
      "      To contribute to pygame development see:\n",
      "          https://www.pygame.org/contribute.html\n",
      "      ---\n",
      "      \n",
      "      Traceback (most recent call last):\n",
      "        File \"<string>\", line 2, in <module>\n",
      "        File \"<pip-setuptools-caller>\", line 34, in <module>\n",
      "        File \"C:\\Users\\max6k\\AppData\\Local\\Temp\\pip-install-imhhlzl1\\pygame_add4699a30e542ab81a7351565d13740\\setup.py\", line 388, in <module>\n",
      "          buildconfig.config.main(AUTO_CONFIG)\n",
      "        File \"C:\\Users\\max6k\\AppData\\Local\\Temp\\pip-install-imhhlzl1\\pygame_add4699a30e542ab81a7351565d13740\\buildconfig\\config.py\", line 234, in main\n",
      "          deps = CFG.main(**kwds)\n",
      "                 ^^^^^^^^^^^^^^^^\n",
      "        File \"C:\\Users\\max6k\\AppData\\Local\\Temp\\pip-install-imhhlzl1\\pygame_add4699a30e542ab81a7351565d13740\\buildconfig\\config_win.py\", line 497, in main\n",
      "          and download_win_prebuilt.ask(**download_kwargs):\n",
      "              ^^^^^^^^^^^^^^^^^^^^^^^^^^^^^^^^^^^^^^^^^^^^\n",
      "        File \"C:\\Users\\max6k\\AppData\\Local\\Temp\\pip-install-imhhlzl1\\pygame_add4699a30e542ab81a7351565d13740\\buildconfig\\download_win_prebuilt.py\", line 290, in ask\n",
      "          update(x86=x86, x64=x64)\n",
      "        File \"C:\\Users\\max6k\\AppData\\Local\\Temp\\pip-install-imhhlzl1\\pygame_add4699a30e542ab81a7351565d13740\\buildconfig\\download_win_prebuilt.py\", line 273, in update\n",
      "          download_prebuilts(download_dir, x86=x86, x64=x64)\n",
      "        File \"C:\\Users\\max6k\\AppData\\Local\\Temp\\pip-install-imhhlzl1\\pygame_add4699a30e542ab81a7351565d13740\\buildconfig\\download_win_prebuilt.py\", line 124, in download_prebuilts\n",
      "          download_sha1_unzip(url, checksum, temp_dir, 1)\n",
      "        File \"C:\\Users\\max6k\\AppData\\Local\\Temp\\pip-install-imhhlzl1\\pygame_add4699a30e542ab81a7351565d13740\\buildconfig\\download_win_prebuilt.py\", line 58, in download_sha1_unzip\n",
      "          raise ValueError(\n",
      "      ValueError: url:https://www.pygame.org/ftp/jpegsr9d.zip should have checksum:ed10aa2b5a0fcfe74f8a6f7611aeb346b06a1f99: Has:e1c29b63cf031ecbe7c106bb21a174a947cd5e22:\n",
      "      [end of output]\n",
      "  \n",
      "  note: This error originates from a subprocess, and is likely not a problem with pip.\n",
      "error: metadata-generation-failed\n",
      "\n",
      "× Encountered error while generating package metadata.\n",
      "╰─> See above for output.\n",
      "\n",
      "note: This is an issue with the package mentioned above, not pip.\n",
      "hint: See above for details.\n"
     ]
    }
   ],
   "source": [
    "# @title Установка необходимых пакетов (надо просто запустить!) { display-mode: \"form\" }\n",
    "# @markdown Может занять несколько минут\n",
    "\n",
    "%pip install jaxlib\n",
    "%pip install jax\n",
    "%pip install git+https://github.com/deepmind/dm-haiku\n",
    "%pip install gym==0.25\n",
    "%pip install gym[box2d]\n",
    "%pip install optax\n",
    "%pip install matplotlib\n",
    "%pip install chex\n",
    "%pip install gym[classic_control]"
   ]
  },
  {
   "cell_type": "code",
   "execution_count": 92,
   "metadata": {},
   "outputs": [
    {
     "name": "stdout",
     "output_type": "stream",
     "text": [
      "Requirement already satisfied: pygame in c:\\python311\\lib\\site-packages (2.6.1)\n",
      "Note: you may need to restart the kernel to use updated packages.\n"
     ]
    },
    {
     "name": "stderr",
     "output_type": "stream",
     "text": [
      "WARNING: Ignoring invalid distribution ~ip (c:\\Python311\\Lib\\site-packages)\n",
      "WARNING: Ignoring invalid distribution ~orch (c:\\Python311\\Lib\\site-packages)\n",
      "DEPRECATION: Loading egg at c:\\python311\\lib\\site-packages\\vboxapi-1.0-py3.11.egg is deprecated. pip 25.1 will enforce this behaviour change. A possible replacement is to use pip for package installation. Discussion can be found at https://github.com/pypa/pip/issues/12330\n",
      "WARNING: Ignoring invalid distribution ~ip (c:\\Python311\\Lib\\site-packages)\n",
      "WARNING: Ignoring invalid distribution ~orch (c:\\Python311\\Lib\\site-packages)\n",
      "WARNING: Ignoring invalid distribution ~ip (c:\\Python311\\Lib\\site-packages)\n",
      "WARNING: Ignoring invalid distribution ~orch (c:\\Python311\\Lib\\site-packages)\n"
     ]
    }
   ],
   "source": [
    "#%pip install wheel --upgrade\n",
    "\n",
    "%pip install pygame"
   ]
  },
  {
   "cell_type": "code",
   "execution_count": 93,
   "metadata": {},
   "outputs": [
    {
     "name": "stdout",
     "output_type": "stream",
     "text": [
      "Collecting git+https://github.com/deepmind/dm-haiku\n",
      "  Cloning https://github.com/deepmind/dm-haiku to c:\\users\\max6k\\appdata\\local\\temp\\pip-req-build-g3tkmedn\n",
      "  Resolved https://github.com/deepmind/dm-haiku to commit a32b885949300989b9822eb26142216b37a27f51\n",
      "  Preparing metadata (setup.py): started\n",
      "  Preparing metadata (setup.py): finished with status 'done'\n",
      "Requirement already satisfied: absl-py>=0.7.1 in c:\\python311\\lib\\site-packages (from dm-haiku==0.0.14.dev0) (2.1.0)\n",
      "Requirement already satisfied: jmp>=0.0.2 in c:\\python311\\lib\\site-packages (from dm-haiku==0.0.14.dev0) (0.0.4)\n",
      "Requirement already satisfied: numpy>=1.18.0 in c:\\python311\\lib\\site-packages (from dm-haiku==0.0.14.dev0) (1.26.3)\n",
      "Requirement already satisfied: tabulate>=0.8.9 in c:\\python311\\lib\\site-packages (from dm-haiku==0.0.14.dev0) (0.9.0)\n",
      "Note: you may need to restart the kernel to use updated packages.\n"
     ]
    },
    {
     "name": "stderr",
     "output_type": "stream",
     "text": [
      "WARNING: Ignoring invalid distribution ~ip (c:\\Python311\\Lib\\site-packages)\n",
      "WARNING: Ignoring invalid distribution ~orch (c:\\Python311\\Lib\\site-packages)\n",
      "DEPRECATION: Loading egg at c:\\python311\\lib\\site-packages\\vboxapi-1.0-py3.11.egg is deprecated. pip 25.1 will enforce this behaviour change. A possible replacement is to use pip for package installation. Discussion can be found at https://github.com/pypa/pip/issues/12330\n",
      "  Running command git clone --filter=blob:none --quiet https://github.com/deepmind/dm-haiku 'C:\\Users\\max6k\\AppData\\Local\\Temp\\pip-req-build-g3tkmedn'\n",
      "WARNING: Ignoring invalid distribution ~ip (c:\\Python311\\Lib\\site-packages)\n",
      "WARNING: Ignoring invalid distribution ~orch (c:\\Python311\\Lib\\site-packages)\n",
      "WARNING: Ignoring invalid distribution ~ip (c:\\Python311\\Lib\\site-packages)\n",
      "WARNING: Ignoring invalid distribution ~orch (c:\\Python311\\Lib\\site-packages)\n"
     ]
    }
   ],
   "source": [
    "%pip install git+https://github.com/deepmind/dm-haiku"
   ]
  },
  {
   "cell_type": "code",
   "execution_count": 94,
   "metadata": {
    "executionInfo": {
     "elapsed": 2333,
     "status": "ok",
     "timestamp": 1733573123346,
     "user": {
      "displayName": "Владислав Ладыгин",
      "userId": "15124880944112457695"
     },
     "user_tz": -300
    },
    "id": "gwbqggmcRjMy"
   },
   "outputs": [],
   "source": [
    "# @title Импорт необходимых пакетов (просто запустите ячейку) { display-mode: \"form\" }\n",
    "import copy\n",
    "from shutil import rmtree # deleting directories\n",
    "import random\n",
    "import collections # useful data structures\n",
    "import numpy as np\n",
    "import gym # reinforcement learning environments\n",
    "from gym.wrappers import RecordVideo\n",
    "import jax\n",
    "import jax.numpy as jnp # jax numpy\n",
    "import haiku as hk # jax neural network library\n",
    "import optax # jax optimizer library\n",
    "import matplotlib.pyplot as plt # graph plotting library\n",
    "from IPython.display import HTML\n",
    "from base64 import b64encode\n",
    "import chex\n",
    "\n",
    "# Hide warnings\n",
    "import warnings\n",
    "warnings.filterwarnings('ignore')"
   ]
  },
  {
   "cell_type": "markdown",
   "metadata": {
    "id": "-ZUp8i37dFbU"
   },
   "source": [
    "## 1. Ключевые концепции обучения с подкреплением\n",
    "\n",
    "Обучение с подкреплением (RL) является подразделом машинного обучения (ML). В отличие от таких областей, как контролируемое обучение, где мы даем примеры ожидаемого поведения нашим моделям, RL фокусируется на *целеориентированном* обучении из взаимодействий методом проб и ошибок. Алгоритмы RL изучают, что делать (т. е. какие оптимальные действия предпринять) в среде, чтобы максимизировать некий сигнал вознаграждения. В таких условиях, как видеоигра, сигналом вознаграждения может быть счет игры, т. е. алгоритмы RL будут пытаться максимизировать счет в игре, выбирая лучшие действия.\n",
    "\n",
    "<center>\n",
    "<img src=\"https://pettingzoo.farama.org/_images/environments-demo.gif\" width=\"40%\" />\n",
    "</center>\n",
    "\n",
    "[*Image Source*](https://pettingzoo.farama.org/)\n",
    "\n",
    "Другими словами, в RL у нас есть **агент**, который воспринимает **наблюдение** $o_t$ текущего состояния $s_t$ **окружающей среды** и должен выбрать **действие** $a_t$ для выполнения.\n",
    "\n",
    "Затем окружающая среда переходит в новое состояние $s_{t+1}$ в ответ на действие агента, а также дает агенту скалярное вознаграждение $r_t$, чтобы указать, насколько хорошим или плохим было выбранное действие, учитывая состояние окружающей среды.\n",
    "\n",
    "Целью в RL является максимизация агентом суммы вознаграждения, которое он получает от окружающей среды с течением времени. Нижний индекс $t$ используется для указания номера временного шага, т. е. $s_0$ - это состояние окружающей среды на начальном временном шаге, а $a_{99}$ - это действие агента на $99-м$ временном шаге."
   ]
  },
  {
   "cell_type": "markdown",
   "metadata": {
    "id": "Ghgy69hFRjMz"
   },
   "source": [
    "### Среда - OpenAI Gym\n",
    "Как упоминалось выше, среда получает от агента действие $a_t$ и возвращает вознаграждение $r_t$ и наблюдение $o_t$.\n",
    "\n",
    "OpenAI разработал пакет для Python под названием **Gym**, который включает реализации популярных сред и простой интерфейс для взаимодействия агента RL. Чтобы использовать поддерживаемую [среду gym](https://www.gymlibrary.ml/), все, что вам нужно сделать, это передать имя среды в функцию  `gym.make(<environment_name>)`.\n",
    "\n",
    "В этом уроке мы будем использовать простую среду под названием **CartPole**. В CartPole задача агента — научиться балансировать на шесте как можно дольше, перемещая тележку *влево* или *вправо*.\n",
    "\n",
    "<img src=\"https://user-images.githubusercontent.com/10854026/32486103-f15f19de-c3a5-11e7-81de-0605df939497.gif\" width=\"50%\" />"
   ]
  },
  {
   "cell_type": "code",
   "execution_count": 95,
   "metadata": {
    "executionInfo": {
     "elapsed": 8,
     "status": "ok",
     "timestamp": 1733573123346,
     "user": {
      "displayName": "Владислав Ладыгин",
      "userId": "15124880944112457695"
     },
     "user_tz": -300
    },
    "id": "WfxzajMYRjMz"
   },
   "outputs": [],
   "source": [
    "# Create the environment\n",
    "env_name = \"CartPole-v0\"\n",
    "env = gym.make(env_name)"
   ]
  },
  {
   "cell_type": "markdown",
   "metadata": {
    "id": "y_BbftaJj3zu"
   },
   "source": [
    "### Состояние (States) и Наблюдение (Observations) - $s_t$ and $o_t$\n",
    "\n",
    "В RL агент воспринимает наблюдение за состоянием среды. В некоторых настройках наблюдение может включать всю информацию, лежащую в основе состояния среды. Такая среда называется **полностью наблюдаемой**. В других настройках агент может получать только частичную информацию о состоянии среды в своем наблюдении. Такая среда называется **частично наблюдаемой**.\n",
    "\n",
    "В оставшейся части этого руководства мы будем предполагать, что среда полностью наблюдаема, и поэтому будем использовать состояние $s_t$ и наблюдение $o_t$ взаимозаменяемо. В Gym мы получаем начальное наблюдение из среды, вызывая функцию `env.reset()`."
   ]
  },
  {
   "cell_type": "code",
   "execution_count": 96,
   "metadata": {
    "colab": {
     "base_uri": "https://localhost:8080/"
    },
    "executionInfo": {
     "elapsed": 7,
     "status": "ok",
     "timestamp": 1733573123346,
     "user": {
      "displayName": "Владислав Ладыгин",
      "userId": "15124880944112457695"
     },
     "user_tz": -300
    },
    "id": "HdS8nqOgRjM0",
    "outputId": "4450291c-9ae0-4509-cbc4-4f9485f5b2e9"
   },
   "outputs": [
    {
     "name": "stdout",
     "output_type": "stream",
     "text": [
      "Initial State:: [ 0.02714449 -0.02646596 -0.03241348 -0.01831812]\n",
      "Environment Obs Space Shape: (4,)\n"
     ]
    }
   ],
   "source": [
    "# Reset the environment\n",
    "s_0 = env.reset()\n",
    "print(\"Initial State::\", s_0)\n",
    "\n",
    "# Get environment obs space\n",
    "obs_shape = env.observation_space.shape\n",
    "print(\"Environment Obs Space Shape:\", obs_shape)"
   ]
  },
  {
   "cell_type": "markdown",
   "metadata": {
    "id": "pUNX6mbotABo"
   },
   "source": [
    "В CartPole состояние окружающей среды представлено четырьмя числами: *угловое положение полюса, угловая скорость полюса, положение тележки, скорость тележки*."
   ]
  },
  {
   "cell_type": "markdown",
   "metadata": {
    "id": "hL1Nkgy7nUfn"
   },
   "source": [
    "### Действия (Actions) - $a_t$\n",
    "\n",
    "В RL действия обычно либо **дискретные**, либо **непрерывные**. Непрерывные действия задаются вектором действительных чисел. Дискретные действия задаются целочисленным значением. В средах, где мы можем подсчитать конечный набор действий, мы обычно используем дискретные действия.\n",
    "\n",
    "В CartPole есть только два действия: *влево* и *вправо*. Таким образом, действия могут быть представлены целыми числами $0$ и $1$. В gym мы можем легко получить список возможных действий следующим образом:"
   ]
  },
  {
   "cell_type": "code",
   "execution_count": 97,
   "metadata": {
    "colab": {
     "base_uri": "https://localhost:8080/"
    },
    "executionInfo": {
     "elapsed": 6,
     "status": "ok",
     "timestamp": 1733573123346,
     "user": {
      "displayName": "Владислав Ладыгин",
      "userId": "15124880944112457695"
     },
     "user_tz": -300
    },
    "id": "uOLZqU_LpIXh",
    "outputId": "bd1fdf35-e7cf-4211-c16b-452d0dc4cc08"
   },
   "outputs": [
    {
     "name": "stdout",
     "output_type": "stream",
     "text": [
      "Environment action space: Discrete(2)\n",
      "Number of actions: 2\n"
     ]
    }
   ],
   "source": [
    "# Get action space - e.g. discrete or continuous\n",
    "print(f\"Environment action space: {env.action_space}\")\n",
    "\n",
    "# Get num actions\n",
    "num_actions = env.action_space.n\n",
    "print(f\"Number of actions: {num_actions}\")"
   ]
  },
  {
   "cell_type": "markdown",
   "metadata": {
    "id": "tRsflxbDpoPm"
   },
   "source": [
    "### Политика агента (The Agent's Policy) - $\\pi$\n",
    "\n",
    "В RL агент выбирает действия на основе полученных наблюдений. Мы можем представить процесс выбора действия агента как функцию, которая принимает наблюдение в качестве входных данных и возвращает действие в качестве выходных данных. В RL мы обычно называем эту функцию **политикой** агента и обозначаем ее $\\pi(s_t)=a_t$. В RL мы обычно параметризуем нашу политику каким-либо образом, а затем пытаемся узнать оптимальные параметры. Параметризованная политика обычно обозначается $\\pi_\\theta$, где $\\theta$ — это набор параметров.\n",
    "\n",
    "**Упражнение 1:** В качестве упражнения давайте реализуем простую политику, которая принимает набор параметров и наблюдение в качестве входных данных и возвращает действие. Предположим, что наблюдение — это вектор из четырех чисел, как наблюдение CartPole, и что действие должно быть либо $0$, либо $1$. Предположим также, что параметры — это вектор из четырех действительных чисел. Тогда действие должно быть вычислено следующим образом.\n",
    "\n",
    "\n",
    "1. Вычислите [скалярное произведение векторов](https://www.mathsisfun.com/algebra/vectors-dot-product.html) между наблюдением и параметрами.\n",
    "2. Если результат больше нуля, верните действие $1$.\n",
    "3. В противном случае верните действие $0$.\n",
    "\n",
    "В этом упражнении мы постараемся использовать JAX как можно чаще. Поэтому постарайтесь использовать методы JAX для этой задачи. Ниже приведены некоторые полезные методы, которые вы можете использовать. Вам нужно будет завершить код в блоке ниже, заменив `...` правильным кодом.\n",
    "\n",
    "\n",
    "**Полезные методы:**\n",
    "* Вычислите скалярное произведение векторов с помощью `jax.numpy.dot` ([docs](https://jax.readthedocs.io/en/latest/_autosummary/jax.numpy.dot.html)).\n",
    "\n",
    "* Когда вы пытаетесь условно присвоить значение $0$ или $1$ действию на основе результата скалярного произведения, вам следует использовать `jax.lax.select` ([docs](https://jax.readthedocs.io/en/latest/_autosummary/jax.lax.select.html#jax.lax.select)).\n",
    "\n",
    "Метод `jax.lax.select` принимает три аргумента в качестве входных данных. Первый аргумент — это оператор, который будет оцениваться как `True` или `False`.\n",
    "\n",
    "Если оператор равен `True`, то `jax.lax.select` вернет свой второй аргумент.\n",
    "\n",
    "Если оператор имеет значение `False`, `jax.lax.select` вернет свой третий аргумент.\n",
    "\n"
   ]
  },
  {
   "cell_type": "code",
   "execution_count": 98,
   "metadata": {
    "executionInfo": {
     "elapsed": 5,
     "status": "ok",
     "timestamp": 1733573123347,
     "user": {
      "displayName": "Владислав Ладыгин",
      "userId": "15124880944112457695"
     },
     "user_tz": -300
    },
    "id": "KSGCd7XB1z8k"
   },
   "outputs": [],
   "source": [
    "def linear_policy(params, obs):\n",
    "  \"\"\"A simple linear policy\n",
    "\n",
    "  Args:\n",
    "    params: a vector of four real-numbers that give the parameters of the policy\n",
    "    obs: a vector of four real-numbers that give the agent's observation\n",
    "\n",
    "  Returns:\n",
    "    a discrete action given by a 0 or 1\n",
    "  \"\"\"\n",
    "  # YOUR CODE\n",
    "  dot_product_result = jax.lax.dot(params, obs)\n",
    "\n",
    "  action = jax.lax.select(\n",
    "      dot_product_result > 0, # boolean statement goes here\n",
    "      1, # result when the statement is True goes here\n",
    "      0, # result when the statement is False goes here\n",
    "  )\n",
    "  # END YOUR CODE\n",
    "  return action"
   ]
  },
  {
   "cell_type": "code",
   "execution_count": 99,
   "metadata": {
    "colab": {
     "base_uri": "https://localhost:8080/"
    },
    "executionInfo": {
     "elapsed": 1804,
     "status": "ok",
     "timestamp": 1733573125146,
     "user": {
      "displayName": "Владислав Ладыгин",
      "userId": "15124880944112457695"
     },
     "user_tz": -300
    },
    "id": "9EnnBvceb1f3",
    "outputId": "def5424b-e509-47d0-b8b5-9de611d65fb0"
   },
   "outputs": [
    {
     "name": "stdout",
     "output_type": "stream",
     "text": [
      "Your function is correct!\n"
     ]
    }
   ],
   "source": [
    "# @title Проверка упр 1  { display-mode: \"form\" }\n",
    "\n",
    "def check_linear_policy(linear_policy):\n",
    "  fixed_obs = jnp.array([1,1,2,4])\n",
    "\n",
    "  # check case1 - negative dot product.\n",
    "  # weights\n",
    "  params1 = jnp.array([1,1,1,1])\n",
    "  params2 = jnp.array([-1,-1,-1,-1])\n",
    "\n",
    "  hint1 = f\"Неправильный ответ, ваша линейная политика неверна. Действие при \\\n",
    "obs={fixed_obs} и params={params1} должно быть 1\"\n",
    "\n",
    "  hint2 = f\"Неправильный ответ, ваша линейная политика неверна. Действие при \\\n",
    "obs={fixed_obs} и params={params2} должно быть 0\"\n",
    "\n",
    "  hint = None\n",
    "  if linear_policy(params1, fixed_obs) != 1:\n",
    "    hint = hint1\n",
    "  elif linear_policy(params2, fixed_obs) != 0:\n",
    "    hint = hint2\n",
    "\n",
    "  if hint is not None:\n",
    "    print(hint)\n",
    "  else:\n",
    "    print(\"Your function is correct!\")\n",
    "\n",
    "try:\n",
    "  check_linear_policy(linear_policy)\n",
    "except Exception as e:\n",
    "    print(\"An Error Occured: {}\".format(e))"
   ]
  },
  {
   "cell_type": "markdown",
   "metadata": {
    "id": "PkuvT-jf6Ieh"
   },
   "source": [
    "### Функция перехода среды - $P$\n",
    "\n",
    "Теперь, когда у нас есть политика, мы можем передавать действия от агента среде. Затем среда перейдет в новое состояние в ответ на действие агента.\n",
    "\n",
    "В RL мы моделируем этот процесс с помощью **функции перехода состояния** $P$, которая принимает текущее состояние $s_t$ и действие $a_t$ в качестве входных данных и возвращает следующее состояние $s_{t+1}$ в качестве выходных данных:\n",
    "\n",
    "<center>\n",
    "$s_{t+1}=P(s_t, a_t)$\n",
    "</center>\n",
    "\n",
    "В gym мы можем передавать действия среде, вызывая функцию `env.step(<action>)`. Затем функция вернет четыре значения:\n",
    "- **следующее наблюдение**\n",
    "- **награду** за выполненное действие\n",
    "- логический флаг, указывающий, **завершена** игра\n",
    "- некоторую **дополнительную** информацию."
   ]
  },
  {
   "cell_type": "code",
   "execution_count": 100,
   "metadata": {
    "colab": {
     "base_uri": "https://localhost:8080/"
    },
    "executionInfo": {
     "elapsed": 3,
     "status": "ok",
     "timestamp": 1733573125146,
     "user": {
      "displayName": "Владислав Ладыгин",
      "userId": "15124880944112457695"
     },
     "user_tz": -300
    },
    "id": "hh0j9-Tk7olb",
    "outputId": "409a4c7f-dafa-42c0-b8ff-ad0b617ab6a2"
   },
   "outputs": [
    {
     "name": "stdout",
     "output_type": "stream",
     "text": [
      "Observation: [0.02979144 0.01312513 0.00982567 0.00576373]\n",
      "Action: 1\n",
      "Next observation: [ 0.03005394  0.2081048   0.00994094 -0.28380296]\n",
      "Reward: 1.0\n",
      "Game is done: False\n"
     ]
    }
   ],
   "source": [
    "# Get the initial obs by resetting the env\n",
    "initial_obs = env.reset()\n",
    "\n",
    "# Randomly sample actions from env\n",
    "action = env.action_space.sample()\n",
    "\n",
    "# Step the environment\n",
    "next_obs, reward, done, info = env.step(action)\n",
    "\n",
    "print(\"Observation:\", initial_obs)\n",
    "print(\"Action:\", action)\n",
    "print(\"Next observation:\", next_obs)\n",
    "print(\"Reward:\", reward)\n",
    "print(\"Game is done:\", done)"
   ]
  },
  {
   "cell_type": "markdown",
   "metadata": {
    "id": "bX9iZtu48UYn"
   },
   "source": [
    "### Возврат эпизода - $R_t$\n",
    "\n",
    "В RL мы обычно разбиваем взаимодействие агента с окружающей средой на **эпизоды**. Сумма всех вознаграждений, собранных во время эпизода, - это то, что мы называем **возвратом** эпизода - $R_t$:\n",
    "\n",
    "<center>\n",
    "$R_t=\\sum_{t=0}^Tr_t$,\n",
    "</center>\n",
    "\n",
    "где $r_t$ - это вознаграждение в момент времени $t$, а $T$ - это последний временной шаг. Цель в RL - выбрать действия, которые максимизируют этот ожидаемый будущий возврат $R_t$."
   ]
  },
  {
   "cell_type": "markdown",
   "metadata": {
    "id": "y6KZA1Nq9p47"
   },
   "source": [
    "### Цикл агент-среда\n",
    "Теперь, когда мы знаем, что такое политика, и знаем, как пошагово проходить среду, давайте закроем цикл агент-среда.\n",
    "\n",
    "**Упражнение 2:** Напишите функцию, которая запускает один эпизод CartPole, последовательно выбирая действия и пошагово проходя среду. Вам следует использовать линейную политику, которую мы определили ранее, для выбора действий. Функция должна отслеживать полученное вознаграждение и выводить возврат в конце эпизода.\n",
    "\n",
    "В CartPole агент получает вознаграждение `1` за каждый временной шаг, когда шест все еще стоит вертикально. Если шест падает, игра заканчивается, и агент больше не получает вознаграждения. Игра также заканчивается после `200` временных шагов, поэтому максимальное вознаграждение, которое может получить агент, составляет `200`."
   ]
  },
  {
   "cell_type": "code",
   "execution_count": 101,
   "metadata": {
    "executionInfo": {
     "elapsed": 3,
     "status": "ok",
     "timestamp": 1733573125146,
     "user": {
      "displayName": "Владислав Ладыгин",
      "userId": "15124880944112457695"
     },
     "user_tz": -300
    },
    "id": "Buy0X7mi-gHP"
   },
   "outputs": [],
   "source": [
    "def run_episode(env):\n",
    "  episode_return = 0 # counter to keep track of rewards\n",
    "  done = False # initially set to False\n",
    "  params = jnp.array([1,-2,2,-1]) # fixed policy parameters\n",
    "\n",
    "  ## YOUR CODE\n",
    "\n",
    "  obs = env.reset() # TODO: get the initial obs from the env\n",
    "\n",
    "  while not done: # loop until episode is done\n",
    "\n",
    "    action = linear_policy(params=params, obs=obs) # TODO: compute action using linear policy\n",
    "    action = np.array(action) # We need to the convert the action from the policy to a np.array\n",
    "\n",
    "    obs, reward, done, info = env.step(action) # TODO: step the environment\n",
    "\n",
    "    episode_return += reward  # TODO: add reward to episode return\n",
    "\n",
    "  return episode_return"
   ]
  },
  {
   "cell_type": "code",
   "execution_count": 102,
   "metadata": {
    "colab": {
     "base_uri": "https://localhost:8080/"
    },
    "executionInfo": {
     "elapsed": 346,
     "status": "ok",
     "timestamp": 1733573125490,
     "user": {
      "displayName": "Владислав Ладыгин",
      "userId": "15124880944112457695"
     },
     "user_tz": -300
    },
    "id": "bA2Orj9PVbKO",
    "outputId": "c81445de-dd59-4908-98dc-cc353dd564c3"
   },
   "outputs": [
    {
     "name": "stdout",
     "output_type": "stream",
     "text": [
      "Looks correct!\n"
     ]
    }
   ],
   "source": [
    "# @title Проверка упр 2 (run me) { display-mode: \"form\" }\n",
    "\n",
    "try:\n",
    "  env.seed(42)\n",
    "  if run_episode(env) == 31:\n",
    "    print(\"Looks correct!\")\n",
    "  else:\n",
    "    print(\"Looks like your implementation might be wrong.\")\n",
    "except Exception as e:\n",
    "    print(\"An Error Occured: {}\".format(e))"
   ]
  },
  {
   "cell_type": "markdown",
   "metadata": {
    "id": "fUGdzHxJnZGl"
   },
   "source": [
    "В CartPole среда считается решенной, когда агент может надежно достичь возврата эпизода 500. Как вы можете видеть, наша текущая политика далека от оптимальной.\n",
    "\n",
    "Один из способов найти оптимальную политику — это случайным образом пробовать разные политики, пока не найдем оптимальную. Эта стратегия называется случайным поиском политики и может быть на удивление эффективной.\n",
    "\n",
    "Прежде чем мы реализуем случайный поиск политики, давайте быстро рассмотрим общий цикл обучения RL, который мы будем использовать для реализации алгоритмов в оставшейся части этого руководства.\n",
    "\n",
    "### Цикл обучения RL общего назначения\n",
    "Мы реализовали для вас цикл обучения RL общего назначения. Цикл обучения принимает несколько аргументов в качестве входных данных, но три наиболее важных для понимания — это `agent_select_action_func`, `agent_learn_func` и `agent_memory`.\n",
    "\n",
    "* `agent_select_action_func` — это функция, которую мы определяем и можем передать в цикл обучения. Функция принимает наблюдение и набор `agent_params` в качестве входных данных и должна возвращать действие.\n",
    "* `agent_learn_func` — это еще один метод, который мы определяем и передаем в цикл обучения. Он должен принимать параметры агента и некоторые «воспоминания» в качестве входных данных, а затем обновлять и возвращать агентам новые параметры.\n",
    "* `agent_memory` — это модуль общего назначения, который мы определяем, который может хранить некоторую релевантную информацию об опыте агента в среде, которую можно использовать в `agent_learn_func`.\n",
    "\n",
    "Ниже приведена функция цикла обучения, которую мы реализовали для вас. Вы можете просмотреть код и попытаться понять его, но это не обязательно. Таким образом, мы скрыли код по умолчанию, просто убедитесь, что вы запустили ячейку кода, прежде чем двигаться дальше, потому что цикл обучения далее в коде."
   ]
  },
  {
   "cell_type": "code",
   "execution_count": 103,
   "metadata": {
    "executionInfo": {
     "elapsed": 10,
     "status": "ok",
     "timestamp": 1733573125491,
     "user": {
      "displayName": "Владислав Ладыгин",
      "userId": "15124880944112457695"
     },
     "user_tz": -300
    },
    "id": "ZWBwz3zMRjM0"
   },
   "outputs": [],
   "source": [
    "#@title Training loop (run me) { display-mode: \"form\" }\n",
    "\n",
    "# NamedTuple to store transitions\n",
    "Transition = collections.namedtuple(\"Transition\", [\"obs\", \"action\", \"reward\", \"next_obs\", \"done\"])\n",
    "\n",
    "# Training Loop\n",
    "def run_training_loop(env_name, agent_params, agent_select_action_func,\n",
    "    agent_actor_state=None, agent_learn_func=None, agent_learner_state=None,\n",
    "    agent_memory=None, num_episodes=1000, evaluator_period=100,\n",
    "    evaluation_episodes=8, learn_steps_per_episode=1,\n",
    "    train_every_timestep=False, video_subdir=\"\",):\n",
    "    \"\"\"\n",
    "    This function runs several episodes in an environment and periodically does\n",
    "    some agent learning and evaluation.\n",
    "\n",
    "    Args:\n",
    "        env: a gym environment.\n",
    "        agent_params: an object to store parameters that the agent uses.\n",
    "        agent_select_func: a function that does action selection for the agent.\n",
    "        agent_actor_state (optional): an object that stores the internal state\n",
    "            of the agents action selection function.\n",
    "        agent_learn_func (optional): a function that does some learning for the\n",
    "            agent by updating the agent parameters.\n",
    "        agent_learn_state (optional): an object that stores the internal state\n",
    "            of the agent learn function.\n",
    "        agent_memory (optional): an object for storing an retrieving historical\n",
    "            experience.\n",
    "        num_episodes: how many episodes to run.\n",
    "        evaluator_period: how often to run evaluation.\n",
    "        evaluation_episodes: how many evaluation episodes to run.\n",
    "        train_every_timestep: whether to train every timestep rather than at the end\n",
    "            of the episode.\n",
    "        video_subdir: subdirectory to store epsiode recordings.\n",
    "\n",
    "    Returns:\n",
    "        episode_returns: list of all the episode returns.\n",
    "        evaluator_episode_returns: list of all the evaluator episode returns.\n",
    "    \"\"\"\n",
    "\n",
    "    # Setup Cartpole environment and recorder\n",
    "    env = gym.make(env_name, render_mode=\"rgb_array\") # training environment\n",
    "    eval_env = gym.make(env_name, render_mode=\"rgb_array\") # evaluation environment\n",
    "\n",
    "    # Video dir\n",
    "    video_dir = \"./video\"+\"/\"+video_subdir\n",
    "\n",
    "    # Clear video dir\n",
    "    try:\n",
    "      rmtree(video_dir)\n",
    "    except:\n",
    "      pass\n",
    "\n",
    "    # Wrap in recorder\n",
    "    env = RecordVideo(env, video_dir+\"/train\", episode_trigger=lambda x: (x % evaluator_period) == 0)\n",
    "    eval_env = RecordVideo(eval_env, video_dir+\"/eval\", episode_trigger=lambda x: (x % evaluation_episodes) == 0)\n",
    "\n",
    "    # JAX random number generator\n",
    "    rng = hk.PRNGSequence(jax.random.PRNGKey(0))\n",
    "    env.seed(0) # seed environment for reproducability\n",
    "    random.seed(0)\n",
    "\n",
    "    episode_returns = [] # List to store history of episode returns.\n",
    "    evaluator_episode_returns = [] # List to store history of evaluator returns.\n",
    "    timesteps = 0\n",
    "    for episode in range(num_episodes):\n",
    "\n",
    "        # Reset environment.\n",
    "        obs = env.reset()\n",
    "        episode_return = 0\n",
    "        done = False\n",
    "\n",
    "        while not done:\n",
    "\n",
    "            # Agent select action.\n",
    "            action, agent_actor_state = agent_select_action_func(\n",
    "                                            next(rng),\n",
    "                                            agent_params,\n",
    "                                            agent_actor_state,\n",
    "                                            np.array(obs)\n",
    "                                        )\n",
    "\n",
    "            # Step environment.\n",
    "            next_obs, reward, done, _ = env.step(int(action))\n",
    "\n",
    "            # Pack into transition.\n",
    "            transition = Transition(obs, action, reward, next_obs, done)\n",
    "\n",
    "            # Add transition to memory.\n",
    "            if agent_memory: # check if agent has memory\n",
    "              agent_memory.push(transition)\n",
    "\n",
    "            # Add reward to episode return.\n",
    "            episode_return += reward\n",
    "\n",
    "            # Set obs to next obs before next environment step. CRITICAL!!!\n",
    "            obs = next_obs\n",
    "\n",
    "            # Increment timestep counter\n",
    "            timesteps += 1\n",
    "\n",
    "            # Maybe learn every timestep\n",
    "            if train_every_timestep and (timesteps % 4 == 0) and agent_memory and agent_memory.is_ready(): # Make sure memory is ready\n",
    "                # First sample memory and then pass the result to the learn function\n",
    "                memory = agent_memory.sample()\n",
    "                agent_params, agent_learner_state = agent_learn_func(\n",
    "                                                        next(rng),\n",
    "                                                        agent_params,\n",
    "                                                        agent_learner_state,\n",
    "                                                        memory\n",
    "                                                    )\n",
    "\n",
    "        episode_returns.append(episode_return)\n",
    "\n",
    "        # At the end of every episode we do a learn step.\n",
    "        if agent_memory and agent_memory.is_ready(): # Make sure memory is ready\n",
    "\n",
    "            for _ in range(learn_steps_per_episode):\n",
    "                # First sample memory and then pass the result to the learn function\n",
    "                memory = agent_memory.sample()\n",
    "                agent_params, agent_learner_state = agent_learn_func(\n",
    "                                                        next(rng),\n",
    "                                                        agent_params,\n",
    "                                                        agent_learner_state,\n",
    "                                                        memory\n",
    "                                                    )\n",
    "\n",
    "        if (episode % evaluator_period) == 0: # Do evaluation\n",
    "\n",
    "            evaluator_episode_return = 0\n",
    "            for eval_episode in range(evaluation_episodes):\n",
    "                obs = eval_env.reset()\n",
    "                done = False\n",
    "                while not done:\n",
    "                    action, _ = agent_select_action_func(\n",
    "                                    next(rng),\n",
    "                                    agent_params,\n",
    "                                    agent_actor_state,\n",
    "                                    np.array(obs),\n",
    "                                    evaluation=True\n",
    "                                )\n",
    "\n",
    "                    obs, reward, done, _ = eval_env.step(int(action))\n",
    "\n",
    "                    evaluator_episode_return += reward\n",
    "\n",
    "            evaluator_episode_return /= evaluation_episodes\n",
    "\n",
    "            evaluator_episode_returns.append(evaluator_episode_return)\n",
    "\n",
    "            logs = [\n",
    "                    f\"Episode: {episode}\",\n",
    "                    f\"Episode Return: {episode_return}\",\n",
    "                    f\"Average Episode Return: {np.mean(episode_returns[-20:])}\",\n",
    "                    f\"Evaluator Episode Return: {evaluator_episode_return}\"\n",
    "            ]\n",
    "\n",
    "            print(*logs, sep=\"\\t\") # Print the logs\n",
    "\n",
    "    env.close()\n",
    "    eval_env.close()\n",
    "\n",
    "    return episode_returns, evaluator_episode_returns"
   ]
  },
  {
   "cell_type": "markdown",
   "metadata": {
    "id": "CTPlIq4oDBPY"
   },
   "source": [
    "##2. Случайный поиск политики (RPS)\n",
    "В разделе 1 мы использовали фиксированный набор параметров для нашей политики. То есть мы не изучали параметры $\\pi$ $\\theta$, мы просто сохранили их фиксированными ( `params = [1,-2,2,-1]`).\n",
    "\n",
    "Теперь мы реализуем случайный поиск политики (RPS), который представляет собой алгоритм, который случайным образом пробует различные параметры политики и отслеживает лучшие параметры, найденные на данный момент. Мы скажем, что параметры политики $\\theta_A$ лучше параметров $\\theta_B$, если средний возврат эпизода, достигнутый за последние 20 эпизодов политикой с параметрами $\\theta_A$, больше, чем у политики с параметрами $\\theta_B$.\n",
    "\n",
    "Чтобы отслеживать «текущие» параметры, а также «лучшие» параметры, мы будем использовать [NamedTuple](https://www.geeksforgeeks.org/namedtuple-in-python/)."
   ]
  },
  {
   "cell_type": "code",
   "execution_count": 104,
   "metadata": {
    "colab": {
     "base_uri": "https://localhost:8080/"
    },
    "executionInfo": {
     "elapsed": 9,
     "status": "ok",
     "timestamp": 1733573125491,
     "user": {
      "displayName": "Владислав Ладыгин",
      "userId": "15124880944112457695"
     },
     "user_tz": -300
    },
    "id": "1DcaC-PQRjM1",
    "outputId": "4e413087-1934-443d-ea38-517a4243063d"
   },
   "outputs": [
    {
     "name": "stdout",
     "output_type": "stream",
     "text": [
      "Best params: [0. 0. 0. 0.]\n",
      "Current params: [-1. -1. -1. -1.]\n"
     ]
    }
   ],
   "source": [
    "# Parameter container for Random Policy Search\n",
    "RandomPolicySearchParams = collections.namedtuple(\"RandomPolicySearchParams\", [\"current\", \"best\"])\n",
    "\n",
    "# TEST: store two different sets of parameters\n",
    "current_params = np.ones(obs_shape) * -1\n",
    "best_params = np.zeros(obs_shape)\n",
    "rps_params = RandomPolicySearchParams(current_params, best_params)\n",
    "\n",
    "# How to access the best or current params.\n",
    "print(f\"Best params: {rps_params.best}\")\n",
    "print(f\"Current params: {rps_params.current}\")"
   ]
  },
  {
   "cell_type": "markdown",
   "metadata": {
    "id": "v91pDDzGex9a"
   },
   "source": [
    "Далее мы реализуем следующее:\n",
    "- **Функция выбора действия RPS** - определяет, как мы выбираем действия с учетом набора параметров.\n",
    "- **Модуль памяти RPS** - определяет, какой опыт хранить из взаимодействий со средой.\n",
    "- **Функция обучения RPS** - определяет, как мы обновляем и улучшаем параметры нашей политики."
   ]
  },
  {
   "cell_type": "markdown",
   "metadata": {
    "id": "0tExceGeGNYH"
   },
   "source": [
    "### Функция выбора действия RPS\n",
    "Давайте реализуем функцию с именем `random_policy_search_choose_action`, которую мы можем передать в цикл обучения. Функция должна принимать несколько аргументов, чтобы она могла хорошо взаимодействовать с нашим обобщенным циклом обучения, но вам нужно будет использовать только три из них - `params`, `obs` и `evaluation`.\n",
    "\n",
    "- `params` - это экземпляр `RandomPolicySearchParams` с \"current\" и \"best\".\n",
    "- `obs` - это последнее наблюдение из среды.\n",
    "- `evaluation` - это логическое значение, которое указывает, следует ли нам использовать параметры \"current\" или \"best\". Когда `evaluation==True`, мы должны использовать параметры \"best\", в противном случае мы должны использовать параметры \"current\".\n",
    "\n",
    "**Упражнение 3:** Реализуйте функцию `random_policy_search_choose_action`, как описано выше. Вам следует использовать метод `linear_policy`, который мы определили ранее. Вам также понадобится `jax.lax.select()` для условного возврата \"лучшего\" действия или \"текущего\" действия."
   ]
  },
  {
   "cell_type": "code",
   "execution_count": 105,
   "metadata": {
    "executionInfo": {
     "elapsed": 7,
     "status": "ok",
     "timestamp": 1733573125491,
     "user": {
      "displayName": "Владислав Ладыгин",
      "userId": "15124880944112457695"
     },
     "user_tz": -300
    },
    "id": "1kmwT35JRjM1"
   },
   "outputs": [],
   "source": [
    "def random_policy_search_choose_action(\n",
    "    key,\n",
    "    params,\n",
    "    actor_state,\n",
    "    obs,\n",
    "    evaluation=False\n",
    "):\n",
    "  \"\"\"Random policy search select action method.\n",
    "\n",
    "  Args:\n",
    "    key: a random number (seed). Not used in this function.\n",
    "    params: the agent's parameters. In this case an instance of `RandomPolicySearchParams`\n",
    "    actor_state: some extra information about the actor. Not used in this function.\n",
    "    obs: the latest observation.\n",
    "    evaluation: a boolean indicating whether to use the best \"parameters\" or the \"current\" ones.\n",
    "\n",
    "  Returns:\n",
    "    The chosen action and the updated actor_state. In this function the actor_state is not updated.\n",
    "  \"\"\"\n",
    "\n",
    "  # YOUR CODE\n",
    "\n",
    "  best_action = linear_policy(params=params.best, obs=obs)\n",
    "\n",
    "  current_action = linear_policy(params=params.current, obs=obs)\n",
    "\n",
    "  action = jax.lax.select(\n",
    "      evaluation ,\n",
    "      best_action ,\n",
    "      current_action\n",
    "  )\n",
    "\n",
    "  # END YOUR CODE\n",
    "\n",
    "  return action, actor_state"
   ]
  },
  {
   "cell_type": "code",
   "execution_count": 106,
   "metadata": {
    "colab": {
     "base_uri": "https://localhost:8080/"
    },
    "executionInfo": {
     "elapsed": 7,
     "status": "ok",
     "timestamp": 1733573125491,
     "user": {
      "displayName": "Владислав Ладыгин",
      "userId": "15124880944112457695"
     },
     "user_tz": -300
    },
    "id": "YE4xoAgyI3kG",
    "outputId": "cb3c1e48-9730-46cc-ed9d-3f8f2199bac5"
   },
   "outputs": [
    {
     "name": "stdout",
     "output_type": "stream",
     "text": [
      "Your function looks correct.\n"
     ]
    }
   ],
   "source": [
    "# @title Проверка упр 3 (run me) {display-mode: \"form\"}\n",
    "\n",
    "def check_random_policy_search_choose_action(choose_action):\n",
    "  key = None # not used\n",
    "  actor_state = None # not used\n",
    "\n",
    "  # obs\n",
    "  obs = np.ones(obs_shape)\n",
    "\n",
    "  evaluation=False\n",
    "  current_params = np.ones(obs_shape) * -1\n",
    "  best_params = np.ones(obs_shape)\n",
    "  rps_params = RandomPolicySearchParams(current_params, best_params)\n",
    "  action, actor_state = choose_action(key,rps_params,actor_state,obs,evaluation)\n",
    "  if action != 0:\n",
    "    return False\n",
    "\n",
    "  evaluation=True\n",
    "  current_params = np.ones(obs_shape) * -1\n",
    "  best_params = np.ones(obs_shape)\n",
    "  rps_params = RandomPolicySearchParams(current_params, best_params)\n",
    "  action, actor_state = choose_action(key,rps_params,actor_state,obs,evaluation)\n",
    "  if action != 1:\n",
    "    return False\n",
    "\n",
    "  return True\n",
    "\n",
    "try:\n",
    "  if check_random_policy_search_choose_action(random_policy_search_choose_action):\n",
    "    print(\"Your function looks correct.\")\n",
    "  else:\n",
    "    print(\"Your function looks incorrect.\")\n",
    "except Exception as e:\n",
    "    print(\"An Error Occured: {}\".format(e))"
   ]
  },
  {
   "cell_type": "markdown",
   "metadata": {
    "id": "6zu51ep7Sh0M"
   },
   "source": [
    "### Память агента RPS\n",
    "\n",
    "Для алгоритма поиска случайной политики нам нужно будет отслеживать средний возврат эпизода для последних 50 эпизодов. Помните, что мы сказали, что «текущие» параметры будут считаться «лучшими» параметрами, если средний возврат эпизода при использовании этих параметров больше предыдущего лучшего среднего возврата эпизода.\n",
    "\n",
    "Мы будем использовать интерфейс памяти общего назначения, который довольно прост. Модуль памяти должен иметь три метода. Первый — это функция `memory.push(<transition>)`, которая добавляет некоторую информацию о последнем переходе среды в память. Второй — это функция `memory.is_ready()`, которая проверяет, готова ли память к обучению. Наконец, функция `memory.sample()` должна возвращать последний набор воспоминаний, которые можно передать в `agent_learn_func`.\n",
    "\n",
    "#### Память среднего возврата эпизода\n",
    "Мы создали для вас простой модуль памяти агента. Он хранит `epsisode_returns` последних 20 эпизодов. Прочитайте нашу реализацию ниже и посмотрите, сможете ли вы ее понять. Метод `memory.sample()` возвращает средний возврат эпизода за последние 20 эпизодов."
   ]
  },
  {
   "cell_type": "code",
   "execution_count": 107,
   "metadata": {
    "executionInfo": {
     "elapsed": 5,
     "status": "ok",
     "timestamp": 1733573125491,
     "user": {
      "displayName": "Владислав Ладыгин",
      "userId": "15124880944112457695"
     },
     "user_tz": -300
    },
    "id": "YVkTBIK5RjM1"
   },
   "outputs": [],
   "source": [
    "class AverageEpisodeReturnBuffer:\n",
    "\n",
    "    def __init__(self, num_episodes_to_store=50):\n",
    "        \"\"\"\n",
    "        This class implements an agent memory that stores the average episode\n",
    "        return over the last 50 episodes.\n",
    "        \"\"\"\n",
    "        self.num_episodes_to_store = num_episodes_to_store\n",
    "        self.episode_return_buffer = []\n",
    "        self.current_episode_return = 0\n",
    "\n",
    "    def push(self, transition):\n",
    "        self.current_episode_return += transition.reward\n",
    "\n",
    "        if transition.done: # If the episode is done\n",
    "            # Add episode return to buffer\n",
    "            self.episode_return_buffer.append(self.current_episode_return)\n",
    "\n",
    "            # Reset episode return\n",
    "            self.current_episode_return = 0\n",
    "\n",
    "\n",
    "    def is_ready(self):\n",
    "        return len(self.episode_return_buffer) == self.num_episodes_to_store\n",
    "\n",
    "    def sample(self):\n",
    "        average_episode_return = np.mean(self.episode_return_buffer)\n",
    "\n",
    "        # Clear episode return buffer\n",
    "        self.episode_return_buffer = []\n",
    "\n",
    "        return average_episode_return"
   ]
  },
  {
   "cell_type": "markdown",
   "metadata": {
    "id": "0oXBsSa2KjWE"
   },
   "source": [
    "### Функция обучения RPS\n",
    "Наконец, нам нужно реализовать функцию `random_policy_search_learn` для нашего алгоритма поиска случайной политики. Функция обучения довольно проста. Все, что нам нужно сделать, это проверить, лучше ли текущие параметры, чем лучшие параметры. Если они лучше, то установите лучшие параметры в качестве текущих параметров и случайным образом сгенерируйте новый набор текущих параметров.\n",
    "\n",
    "**Упражнение 4:** Напишите функцию для случайной генерации новых весов с использованием JAX. Веса должны быть выбраны из интервала `[-2,2]`.\n",
    "\n",
    "**Полезные функции:**\n",
    "*   `jax.random.uniform` ([docs](https://jax.readthedocs.io/en/latest/_autosummary/jax.random.uniform.html#jax.random.uniform))\n",
    "\n"
   ]
  },
  {
   "cell_type": "code",
   "execution_count": 108,
   "metadata": {
    "executionInfo": {
     "elapsed": 5,
     "status": "ok",
     "timestamp": 1733573125491,
     "user": {
      "displayName": "Владислав Ладыгин",
      "userId": "15124880944112457695"
     },
     "user_tz": -300
    },
    "id": "8V2yFM2XMjGW"
   },
   "outputs": [],
   "source": [
    "def get_new_random_weights(random_key, old_weights, minval=-2.0, maxval=2.0):\n",
    "    new_weights_shape = old_weights.shape # you will need to use these values\n",
    "    new_weights_dtype = old_weights.dtype # you will need to use these values\n",
    "\n",
    "    # YOUR CODE\n",
    "\n",
    "    new_params = jax.random.uniform(dtype=new_weights_dtype, shape=new_weights_shape, minval=minval, maxval=maxval, key=random_key)\n",
    "\n",
    "    # END YOUR CODE\n",
    "\n",
    "    return new_params"
   ]
  },
  {
   "cell_type": "code",
   "execution_count": 109,
   "metadata": {
    "colab": {
     "base_uri": "https://localhost:8080/"
    },
    "executionInfo": {
     "elapsed": 1048,
     "status": "ok",
     "timestamp": 1733573126535,
     "user": {
      "displayName": "Владислав Ладыгин",
      "userId": "15124880944112457695"
     },
     "user_tz": -300
    },
    "id": "T8ifHTKGQlAd",
    "outputId": "30f7784e-59bf-44bf-8c20-1cdc785466c9"
   },
   "outputs": [
    {
     "name": "stdout",
     "output_type": "stream",
     "text": [
      "Function is correct!\n"
     ]
    }
   ],
   "source": [
    "# @title Проверка упр 4 (run me) {display-mode: \"form\"}\n",
    "\n",
    "def check_get_new_random_weights(get_new_random_weights):\n",
    "  old_weights = np.ones(obs_shape, \"float32\")\n",
    "  random_key = jax.random.PRNGKey(42)\n",
    "\n",
    "  # Case 1\n",
    "  new_weights = get_new_random_weights(random_key, old_weights, minval=-2.0, maxval=2.0)\n",
    "\n",
    "  if jnp.array_equal(new_weights, jnp.array([ 0.29657745,1.4265499, -1.7621555, -1.7505779 ])):\n",
    "    print(\"Function is correct!\")\n",
    "  else:\n",
    "    print(\"Something is wrong.\")\n",
    "\n",
    "try:\n",
    "  check_get_new_random_weights(get_new_random_weights)\n",
    "except Exception as e:\n",
    "    print(\"An Error Occured: {}\".format(e))"
   ]
  },
  {
   "cell_type": "markdown",
   "metadata": {
    "id": "2Djxc9j-LzkM"
   },
   "source": [
    "Наша функция обучения получает память в форме среднего возврата эпизода из `AverageEpisodeReturnMemory`, которую мы реализовали ранее. Мы можем использовать это для сравнения текущих параметров с лучшими параметрами. Но нам также нужно будет отслеживать лучший средний возврат эпизода для функции обучения. Для этого мы можем использовать аргумент `learn_state`, который передается в `agent_learn_func` в нашем цикле обучения. Как и в случае с `RandomPolicySearchParams`, мы будем использовать NamedTuple для хранения `best_average_episode_return` в `learn_state`."
   ]
  },
  {
   "cell_type": "code",
   "execution_count": 110,
   "metadata": {
    "colab": {
     "base_uri": "https://localhost:8080/"
    },
    "executionInfo": {
     "elapsed": 4,
     "status": "ok",
     "timestamp": 1733573126535,
     "user": {
      "displayName": "Владислав Ладыгин",
      "userId": "15124880944112457695"
     },
     "user_tz": -300
    },
    "id": "4cSH4uYmRjM2",
    "outputId": "ce8b6ba5-f38a-4d0d-cfed-28d55b5469f1"
   },
   "outputs": [
    {
     "name": "stdout",
     "output_type": "stream",
     "text": [
      "Initial best average episode return: -inf\n"
     ]
    }
   ],
   "source": [
    "# A NamedTuple to store the best average episode return so far\n",
    "RandomPolicyLearnState = collections.namedtuple(\n",
    "  \"RandomPolicyLearnState\",\n",
    "  [\"best_average_episode_return\"]\n",
    ")\n",
    "\n",
    "# Test\n",
    "initial_learn_state = RandomPolicyLearnState(best_average_episode_return=-float(\"inf\"))\n",
    "print(\"Initial best average episode return:\", initial_learn_state.best_average_episode_return)"
   ]
  },
  {
   "cell_type": "markdown",
   "metadata": {
    "id": "PxZXdP8bOu6b"
   },
   "source": [
    "Теперь у нас есть все необходимое для реализации функции `random_policy_search_learn`.\n",
    "\n",
    "**Упражнение 5:** Реализуйте функцию `random_policy_search_learn`. Функция должна проверять, лучше ли «текущие» параметры, чем «лучшие» параметры, сравнивая `current_average_episode_return` с `best_average_episode_return`. Функция также должна обновлять `learn_state`."
   ]
  },
  {
   "cell_type": "code",
   "execution_count": 111,
   "metadata": {
    "executionInfo": {
     "elapsed": 5,
     "status": "ok",
     "timestamp": 1733573126536,
     "user": {
      "displayName": "Владислав Ладыгин",
      "userId": "15124880944112457695"
     },
     "user_tz": -300
    },
    "id": "Te_Q3qzmZcN_"
   },
   "outputs": [],
   "source": [
    "def random_policy_search_learn(key, params, learn_state, memory):\n",
    "    best_params = params.best\n",
    "    current_params = params.current\n",
    "\n",
    "    current_average_episode_return = memory # the memory contains the average episode return\n",
    "    best_average_episode_return = learn_state.best_average_episode_return\n",
    "\n",
    "\n",
    "    # YOUR CODE\n",
    "\n",
    "    best_params = jax.lax.select(\n",
    "        best_params > current_params,\n",
    "        best_params ,\n",
    "        current_params\n",
    "    )\n",
    "\n",
    "    best_average_episode_return = jax.lax.select(\n",
    "        best_average_episode_return > current_average_episode_return,\n",
    "        best_average_episode_return ,\n",
    "        current_average_episode_return\n",
    "    )\n",
    "\n",
    "    # END YOUR CODE\n",
    "\n",
    "    # Generate new random parameters\n",
    "    new_params = get_new_random_weights(key, current_params)\n",
    "\n",
    "    # Bundle weights in RandomPolicySearchParams NamedTuple\n",
    "    params = RandomPolicySearchParams(current=new_params, best=best_params)\n",
    "\n",
    "    return params, RandomPolicyLearnState(best_average_episode_return)"
   ]
  },
  {
   "cell_type": "code",
   "execution_count": 112,
   "metadata": {
    "colab": {
     "base_uri": "https://localhost:8080/"
    },
    "executionInfo": {
     "elapsed": 4,
     "status": "ok",
     "timestamp": 1733573126536,
     "user": {
      "displayName": "Владислав Ладыгин",
      "userId": "15124880944112457695"
     },
     "user_tz": -300
    },
    "id": "CXHV4k2iBLBF",
    "outputId": "fa28d207-3c98-4e38-a8fc-1378713b5346"
   },
   "outputs": [
    {
     "name": "stdout",
     "output_type": "stream",
     "text": [
      "Your function looks correct.\n"
     ]
    }
   ],
   "source": [
    "#@title Проверка упр 5 {display-mode: \"form\"}\n",
    "\n",
    "params = RandomPolicySearchParams(np.ones(obs_shape, \"float32\"), np.ones(obs_shape, \"float32\") * -1)\n",
    "learn_state = RandomPolicyLearnState(10)\n",
    "memory = 11\n",
    "key = jax.random.PRNGKey(42)\n",
    "\n",
    "try:\n",
    "  new_params, new_learn_state = random_policy_search_learn(key, params, learn_state, memory)\n",
    "\n",
    "  if not jnp.array_equal(new_params.current, jnp.array([ 0.29657745,  1.4265499 , -1.7621555 , -1.7505779 ])):\n",
    "    print(\"Your function is incorrect.\")\n",
    "\n",
    "  elif not jnp.array_equal(new_params.best, jnp.array([1., 1., 1., 1.])):\n",
    "    print(\"Your function is incorrect.\")\n",
    "\n",
    "  elif new_learn_state.best_average_episode_return != 11:\n",
    "    print(\"Your function is incorrect.\")\n",
    "\n",
    "  else:\n",
    "    print(\"Your function looks correct.\")\n",
    "except Exception as e:\n",
    "    print(\"An Error Occured: {}\".format(e))"
   ]
  },
  {
   "cell_type": "markdown",
   "metadata": {
    "id": "5Ol_AxnMBdgP"
   },
   "source": [
    "### Цикл обучения RPS\n",
    "Теперь мы можем собрать все вместе, передав модуль `memory`, функцию `learn` и функцию `choose_action` в цикл обучения. Чтобы ускорить наш алгоритм, мы будем использовать `jax.jit` в функции `learn` и функции `choose_action`."
   ]
  },
  {
   "cell_type": "code",
   "execution_count": 113,
   "metadata": {},
   "outputs": [
    {
     "name": "stdout",
     "output_type": "stream",
     "text": [
      "Requirement already satisfied: imageio-ffmpeg in c:\\python311\\lib\\site-packages (0.5.1)\n",
      "Requirement already satisfied: setuptools in c:\\python311\\lib\\site-packages (from imageio-ffmpeg) (65.5.0)\n",
      "Note: you may need to restart the kernel to use updated packages.\n"
     ]
    },
    {
     "name": "stderr",
     "output_type": "stream",
     "text": [
      "WARNING: Ignoring invalid distribution ~ip (c:\\Python311\\Lib\\site-packages)\n",
      "WARNING: Ignoring invalid distribution ~orch (c:\\Python311\\Lib\\site-packages)\n",
      "DEPRECATION: Loading egg at c:\\python311\\lib\\site-packages\\vboxapi-1.0-py3.11.egg is deprecated. pip 25.1 will enforce this behaviour change. A possible replacement is to use pip for package installation. Discussion can be found at https://github.com/pypa/pip/issues/12330\n",
      "WARNING: Ignoring invalid distribution ~ip (c:\\Python311\\Lib\\site-packages)\n",
      "WARNING: Ignoring invalid distribution ~orch (c:\\Python311\\Lib\\site-packages)\n",
      "WARNING: Ignoring invalid distribution ~ip (c:\\Python311\\Lib\\site-packages)\n",
      "WARNING: Ignoring invalid distribution ~orch (c:\\Python311\\Lib\\site-packages)\n"
     ]
    }
   ],
   "source": [
    "%pip install imageio-ffmpeg"
   ]
  },
  {
   "cell_type": "code",
   "execution_count": 114,
   "metadata": {
    "colab": {
     "base_uri": "https://localhost:8080/",
     "height": 680
    },
    "executionInfo": {
     "elapsed": 327479,
     "status": "ok",
     "timestamp": 1733573454012,
     "user": {
      "displayName": "Владислав Ладыгин",
      "userId": "15124880944112457695"
     },
     "user_tz": -300
    },
    "id": "Qx57tf7vRjM3",
    "outputId": "fb6ce77e-6d7f-404b-dfab-d80251661e34"
   },
   "outputs": [
    {
     "name": "stdout",
     "output_type": "stream",
     "text": [
      "Starting training. This may take up to 5 minutes to complete.\n",
      "Episode: 0\tEpisode Return: 80.0\tAverage Episode Return: 80.0\tEvaluator Episode Return: 136.25\n",
      "Episode: 100\tEpisode Return: 42.0\tAverage Episode Return: 10.95\tEvaluator Episode Return: 9.375\n",
      "Episode: 200\tEpisode Return: 9.0\tAverage Episode Return: 79.5\tEvaluator Episode Return: 72.625\n",
      "Episode: 300\tEpisode Return: 150.0\tAverage Episode Return: 16.2\tEvaluator Episode Return: 80.0\n",
      "Episode: 400\tEpisode Return: 193.0\tAverage Episode Return: 74.15\tEvaluator Episode Return: 133.75\n",
      "Episode: 500\tEpisode Return: 8.0\tAverage Episode Return: 9.1\tEvaluator Episode Return: 128.25\n",
      "Episode: 600\tEpisode Return: 9.0\tAverage Episode Return: 9.15\tEvaluator Episode Return: 135.375\n",
      "Episode: 700\tEpisode Return: 94.0\tAverage Episode Return: 118.4\tEvaluator Episode Return: 199.5\n",
      "Episode: 800\tEpisode Return: 129.0\tAverage Episode Return: 15.45\tEvaluator Episode Return: 200.0\n",
      "Episode: 900\tEpisode Return: 27.0\tAverage Episode Return: 10.05\tEvaluator Episode Return: 158.75\n",
      "Episode: 1000\tEpisode Return: 9.0\tAverage Episode Return: 9.8\tEvaluator Episode Return: 113.625\n"
     ]
    },
    {
     "data": {
      "image/png": "[encoded data removed]",
      "text/plain": [
       "<Figure size 640x480 with 1 Axes>"
      ]
     },
     "metadata": {},
     "output_type": "display_data"
    }
   ],
   "source": [
    "# JIT the learn and choose action functions\n",
    "random_policy_search_learn_jit = jax.jit(random_policy_search_learn)\n",
    "random_policy_search_choose_action_jit = jax.jit(random_policy_search_choose_action)\n",
    "\n",
    "# Initialise the parameters\n",
    "initial_weights = np.ones(obs_shape, \"float32\")\n",
    "initial_params = RandomPolicySearchParams(initial_weights, initial_weights)\n",
    "\n",
    "# Initialise the learn state\n",
    "initial_learn_state = RandomPolicyLearnState(best_average_episode_return=-float(\"inf\"))\n",
    "\n",
    "# Initialise memory\n",
    "memory = AverageEpisodeReturnBuffer(num_episodes_to_store=50)\n",
    "\n",
    "# Run the training loop\n",
    "print(\"Starting training. This may take up to 5 minutes to complete.\")\n",
    "chex.clear_trace_counter()\n",
    "episode_return, evaluator_episode_returns = run_training_loop(\n",
    "                                        env_name,\n",
    "                                        initial_params,\n",
    "                                        random_policy_search_choose_action_jit,\n",
    "                                        None, # no actor state\n",
    "                                        random_policy_search_learn_jit,\n",
    "                                        initial_learn_state,\n",
    "                                        memory,\n",
    "                                        num_episodes=1001,\n",
    "                                        video_subdir=\"rps\"\n",
    "                                    )\n",
    "\n",
    "# Plot graph of evaluator episode returns\n",
    "plt.plot(np.linspace(0, 1000, len(evaluator_episode_returns)), evaluator_episode_returns)\n",
    "plt.title(\"Random Policy Search\")\n",
    "plt.xlabel(\"Episodes\")\n",
    "plt.ylabel(\"Episode Return\")\n",
    "plt.show()"
   ]
  },
  {
   "cell_type": "markdown",
   "metadata": {
    "id": "TG10FG6uS05A"
   },
   "source": [
    "Надеюсь, вы нашли набор оптимальных параметров на CartPole (возврат эпизода достигает `200`). В ячейке ниже вы можете посмотреть несколько видеороликов агента, выполняющего задание."
   ]
  },
  {
   "cell_type": "code",
   "execution_count": 115,
   "metadata": {
    "colab": {
     "base_uri": "https://localhost:8080/",
     "height": 288
    },
    "executionInfo": {
     "elapsed": 8,
     "status": "ok",
     "timestamp": 1733573454012,
     "user": {
      "displayName": "Владислав Ладыгин",
      "userId": "15124880944112457695"
     },
     "user_tz": -300
    },
    "id": "KgayDJ7KWC4C",
    "outputId": "04d68dda-cef0-41d3-85bc-cf76a212e8b6"
   },
   "outputs": [
    {
     "data": {
      "text/html": [
       "\n",
       "<video width=400 controls>\n",
       "      <source src=\"data:video/mp4;base64,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\" type=\"video/mp4\">\n",
       "</video>\n"
      ],
      "text/plain": [
       "<IPython.core.display.HTML object>"
      ]
     },
     "execution_count": 115,
     "metadata": {},
     "output_type": "execute_result"
    }
   ],
   "source": [
    "#@title Visualise Policy {display-mode: \"form\"}\n",
    "#@markdown Choose an episode number that is a multiple of 100 and less than or equal to 2000, and **run** this cell.\n",
    "episode_number = 1000 #@param {type:\"number\"}\n",
    "\n",
    "assert (episode_number % 100) == 0, \"Episode number must be a multiple of 100 since we only record every 100th episode.\"\n",
    "assert episode_number < 1001, \"Episode number must be less than or equal to 2000\"\n",
    "\n",
    "eval_episode_number = int(episode_number / 100 * 8)\n",
    "video_path = f\"./video/rps/eval/rl-video-episode-{eval_episode_number}.mp4\"\n",
    "\n",
    "mp4 = open(video_path,'rb').read()\n",
    "data_url = \"data:video/mp4;base64,\" + b64encode(mp4).decode()\n",
    "HTML(\"\"\"\n",
    "<video width=400 controls>\n",
    "      <source src=\"%s\" type=\"video/mp4\">\n",
    "</video>\n",
    "\"\"\" % data_url)"
   ]
  },
  {
   "cell_type": "markdown",
   "metadata": {
    "id": "Xwf1IKKbrrVn"
   },
   "source": [
    "Итак, случайный поиск политики справился с этой задачей довольно хорошо. Однако здесь происходит очень мало (если вообще происходит) реального *обучения*. Далее давайте рассмотрим реализацию простого алгоритма RL, который может использовать свой опыт для руководства нашим поиском оптимальной политики, а не просто искать ее случайным образом."
   ]
  },
  {
   "cell_type": "markdown",
   "metadata": {
    "id": "XEnSjZVESrxc"
   },
   "source": [
    "## 3. Градиенты политики  (Policy Gradients, PG)\n",
    "Как обсуждалось, цель RL — найти политику, которая максимизирует ожидаемое совокупное вознаграждение (возврат), которое агент получает от среды. Мы можем записать ожидаемый возврат политики как:\n",
    "\n",
    "$J(\\pi_\\theta)=\\mathrm{E}_{\\tau\\sim\\pi_\\theta}\\ [R(\\tau)]$,\n",
    "\n",
    "где $\\pi_\\theta$ — это политика, параметризованная $\\theta$, $\\mathrm{E}$ означает *ожидание*, $\\tau$ — это сокращение для \"*эпизод*\", $\\tau\\sim\\pi_\\theta$ — это сокращение для \"*эпизоды, выбранные с использованием политики* $\\pi_\\theta$\", а $R(\\tau)$ — это возврат эпизода $\\tau$.\n",
    "\n",
    "Затем, цель в RL — найти параметры $\\theta$, которые максимизируют функцию $J(\\pi_\\theta)$. Один из способов найти эти параметры — выполнить градиентный подъем по $J(\\pi_\\theta)$ относительно параметров $\\theta$:\n",
    "\n",
    "$\\theta_{k+1}=\\theta_k + \\alpha \\nabla J(\\pi_\\theta)|_{\\theta_{k}}$,\n",
    "\n",
    "где $\\nabla J(\\pi_\\theta)|_{\\theta_{k}}$ — градиент ожидаемой доходности относительно параметров политики $\\theta_k$, а $\\alpha$ — размер шага. Эта величина, $\\nabla J(\\pi_\\theta)$, также называется **градиентом политики** и очень важна в RL. Если мы сможем вычислить градиент политики, то у нас будет средство, с помощью которого можно напрямую оптимизировать нашу политику.\n",
    "\n",
    "Как оказалось, у нас есть способ вычислить градиент политики, и математический вывод можно найти [здесь](https://spinningup.openai.com/en/latest/spinningup/rl_intro3.html). Но для этого руководства мы опустим вывод и просто дадим вам результат:\n",
    "\n",
    "$\\nabla_{\\theta} J(\\pi_{\\theta})=\\underset{\\tau \\sim \\pi_{\\theta}}{\\mathrm{E}}[\\sum_{t=0}^{T} \\nabla_{\\theta} \\log \\pi_{\\theta}(a_{t} \\mid s_{t}) R(\\tau)]$\n",
    "\n",
    "Неформально, градиент политики равен градиенту логарифма вероятности выбранного действия, умноженного на возврат эпизода, в котором было предпринято действие.\n"
   ]
  },
  {
   "cell_type": "markdown",
   "metadata": {
    "id": "BTnTzgtSuy-y"
   },
   "source": [
    "### REINFORCE\n",
    "REINFORCE — это простой алгоритм RL, который использует градиент политики для поиска оптимальной политики путем увеличения вероятности выбора действий (усиливающих действий), которые, как правило, приводят к эпизодам с высокой отдачей.\n",
    "\n",
    "**Упражнение 6:** Реализуйте функцию, которая берет вероятность действия и отдачу эпизода, в котором действие было предпринято, и вычисляет логарифм вероятности, умноженный на отдачу. Убедитесь, что вы используете JAX.\n",
    "\n",
    "**Полезные функции:**\n",
    "*   `jax.numpy.log`([docs](https://jax.readthedocs.io/en/latest/_autosummary/jax.numpy.log.html))"
   ]
  },
  {
   "cell_type": "code",
   "execution_count": 116,
   "metadata": {
    "executionInfo": {
     "elapsed": 8,
     "status": "ok",
     "timestamp": 1733573454013,
     "user": {
      "displayName": "Владислав Ладыгин",
      "userId": "15124880944112457695"
     },
     "user_tz": -300
    },
    "id": "bJObUsoUrOyV"
   },
   "outputs": [],
   "source": [
    "def compute_weighted_log_prob(action_prob, episode_return):\n",
    "\n",
    "    # YOUR CODE\n",
    "\n",
    "    log_porb = jax.numpy.log(action_prob)\n",
    "\n",
    "    weighted_log_prob =  log_porb * episode_return\n",
    "\n",
    "    # END YOUR CODE\n",
    "\n",
    "    return weighted_log_prob"
   ]
  },
  {
   "cell_type": "code",
   "execution_count": 117,
   "metadata": {
    "colab": {
     "base_uri": "https://localhost:8080/"
    },
    "executionInfo": {
     "elapsed": 8,
     "status": "ok",
     "timestamp": 1733573454013,
     "user": {
      "displayName": "Владислав Ладыгин",
      "userId": "15124880944112457695"
     },
     "user_tz": -300
    },
    "id": "eZPoTwa1Gbm1",
    "outputId": "bc1996e2-1578-45d1-d19e-a186c2c56554"
   },
   "outputs": [
    {
     "name": "stdout",
     "output_type": "stream",
     "text": [
      "Looks correct.\n"
     ]
    }
   ],
   "source": [
    "#@title Проверка упр 6 {display-mode: \"form\"}\n",
    "\n",
    "try:\n",
    "  action_prob = 0.8\n",
    "  episode_return = 100\n",
    "  result = compute_weighted_log_prob(action_prob, episode_return)\n",
    "  if result != -22.314354:\n",
    "    print(\"Your implementation looks incorrect.\")\n",
    "  else:\n",
    "    print(\"Looks correct.\")\n",
    "except Exception as e:\n",
    "    print(\"An Error Occured: {}\".format(e))"
   ]
  },
  {
   "cell_type": "markdown",
   "metadata": {
    "id": "NmgW9UJ3tIpl"
   },
   "source": [
    "### Rewards-to-go\n",
    "Выполнение градиентного подъема по градиенту логарифма вероятности действия, взвешенного по возврату эпизода, будет иметь тенденцию повышать вероятность действий, которые были в эпизодах с высоким возвратом, независимо от того, *где* в эпизоде ​​было выполнено действие. Это на самом деле не имеет большого смысла, потому что действие ближе к концу эпизода может быть подкреплено, потому что много вознаграждения было собрано ранее в эпизоде, *до* того, как было выполнено действие. Агенты RL должны на самом деле подкреплять действия только на основе их *последствий*. Вознаграждения, полученные до выполнения действия, не влияют на то, насколько хорошим было это действие: только вознаграждения, которые приходят после. Накопленные вознаграждения, полученные после выполнения действия, называются **вознаграждениями-к-переходу** и могут быть вычислены как:\n",
    "\n",
    "$\\hat{R}_i=\\sum_{t=i}^Tr_t$\n",
    "\n",
    "Сравните это с доходностью эпизода:\n",
    "\n",
    "$R(\\tau)=\\sum_{t=0}^Tr_t$\n",
    "\n",
    "Мы можем повысить надежность градиента политики, заменив доходность эпизода на вознаграждения-к-переходу. Градиент политики с оставшимися наградами задается следующим образом:\n",
    "\n",
    "$\\nabla_{\\theta} J(\\pi_{\\theta})=\\underset{\\tau \\sim \\pi_{\\theta}}{\\mathrm{E}}[\\sum_{t=0}^{T} \\nabla_{\\theta} \\log \\pi_{\\theta}(a_{t} \\mid s_{t}) \\hat{R}_t]$\n",
    "\n",
    "**Упражнение 7:** Реализуйте функцию, которая берет список всех наград, полученных в эпизоде, и вычисляет оставшиеся награды. Не беспокойтесь об использовании JAX в этой функции. Вы можете использовать обычные операции Python, такие как `for-loops`."
   ]
  },
  {
   "cell_type": "code",
   "execution_count": 118,
   "metadata": {
    "executionInfo": {
     "elapsed": 309,
     "status": "ok",
     "timestamp": 1733573454316,
     "user": {
      "displayName": "Владислав Ладыгин",
      "userId": "15124880944112457695"
     },
     "user_tz": -300
    },
    "id": "nV1Hww8E3dUJ"
   },
   "outputs": [],
   "source": [
    "def compute_rewards_to_go(rewards):\n",
    "    \"\"\"\n",
    "    This function should take a list of rewards as input and\n",
    "    compute the rewards-to-go for each timestep.\n",
    "\n",
    "    EXAMPLE: compute_rewards_to_go([1,2,3,4]) = [10, 9, 7, 4]\n",
    "\n",
    "    Arguments:\n",
    "        rewards[t] is the reward at time step t.\n",
    "\n",
    "    Returns:\n",
    "        rewards_to_go[t] should be the reward-to-go at timestep t.\n",
    "    \"\"\"\n",
    "\n",
    "    rewards_to_go = []\n",
    "\n",
    "    # YOUR CODE\n",
    "    total_reward = 0\n",
    "    for reward in reversed(rewards):\n",
    "      total_reward += reward\n",
    "      rewards_to_go.insert(0, total_reward)\n",
    "\n",
    "    # END YOUR CODE\n",
    "\n",
    "    return rewards_to_go"
   ]
  },
  {
   "cell_type": "code",
   "execution_count": 119,
   "metadata": {
    "colab": {
     "base_uri": "https://localhost:8080/"
    },
    "executionInfo": {
     "elapsed": 5,
     "status": "ok",
     "timestamp": 1733573454316,
     "user": {
      "displayName": "Владислав Ладыгин",
      "userId": "15124880944112457695"
     },
     "user_tz": -300
    },
    "id": "hLVaVRp28YGI",
    "outputId": "beab4549-21c5-4a81-a3bb-6248f0466a5c"
   },
   "outputs": [
    {
     "name": "stdout",
     "output_type": "stream",
     "text": [
      "Looks correct.\n"
     ]
    }
   ],
   "source": [
    "#@title Проверка упр 7 {display-mode: \"form\"}\n",
    "\n",
    "try:\n",
    "  result = compute_rewards_to_go([1,2,3,4])\n",
    "\n",
    "  if result != [10, 9, 7, 4]:\n",
    "    print(\"There is a problem with your implementation.\")\n",
    "  else:\n",
    "    print(\"Looks correct.\")\n",
    "except Exception as e:\n",
    "    print(\"An Error Occured: {}\".format(e))\n"
   ]
  },
  {
   "cell_type": "markdown",
   "metadata": {
    "id": "IboxN9MS65i5"
   },
   "source": [
    "### REINFORCE memory\n",
    "Далее нам нужно будет создать новую память агента для хранения вознаграждений $\\hat{R}_t$ вместе с наблюдением $o_t$ и действием $a_t$ на каждом временном шаге. Ниже мы реализовали такой модуль памяти для вас. Функция `memory.sample()` вернет пакет из последних 500 воспоминаний. Вы можете прочитать код, чтобы попытаться понять его, но это не обязательно. Поэтому мы скрываем код по умолчанию."
   ]
  },
  {
   "cell_type": "code",
   "execution_count": 120,
   "metadata": {
    "executionInfo": {
     "elapsed": 3,
     "status": "ok",
     "timestamp": 1733573454316,
     "user": {
      "displayName": "Владислав Ладыгин",
      "userId": "15124880944112457695"
     },
     "user_tz": -300
    },
    "id": "xhS4V6auRjM3"
   },
   "outputs": [],
   "source": [
    "# @title Реализация памяти (run me) {display-mode: \"form\"}\n",
    "\n",
    "# NamedTuple to store memory\n",
    "EpisodeRewardsToGoMemory = collections.namedtuple(\"EpisodeRewardsToGoMemory\", [\"obs\", \"action\", \"reward_to_go\"])\n",
    "\n",
    "class EpisodeRewardsToGoBuffer:\n",
    "\n",
    "    def __init__(self, num_transitions_to_store=512, batch_size=256):\n",
    "        self.batch_size = batch_size\n",
    "        self.memory_buffer = collections.deque(maxlen=num_transitions_to_store)\n",
    "        self.current_episode_transition_buffer = []\n",
    "\n",
    "    def push(self, transition):\n",
    "        self.current_episode_transition_buffer.append(transition)\n",
    "\n",
    "        if transition.done:\n",
    "\n",
    "            episode_rewards = []\n",
    "            for t in self.current_episode_transition_buffer:\n",
    "                episode_rewards.append(t.reward)\n",
    "\n",
    "            r2g = compute_rewards_to_go(episode_rewards)\n",
    "\n",
    "            for i, t in enumerate(self.current_episode_transition_buffer):\n",
    "                memory = EpisodeRewardsToGoMemory(t.obs, t.action, r2g[i])\n",
    "                self.memory_buffer.append(memory)\n",
    "\n",
    "            # Reset episode buffer\n",
    "            self.current_episode_transition_buffer = []\n",
    "\n",
    "\n",
    "    def is_ready(self):\n",
    "        return len(self.memory_buffer) >= self.batch_size\n",
    "\n",
    "    def sample(self):\n",
    "        random_memory_sample = random.sample(self.memory_buffer, self.batch_size)\n",
    "\n",
    "        obs_batch, action_batch, reward_to_go_batch = zip(*random_memory_sample)\n",
    "\n",
    "        return EpisodeRewardsToGoMemory(\n",
    "            np.stack(obs_batch).astype(\"float32\"),\n",
    "            np.asarray(action_batch).astype(\"int32\"),\n",
    "            np.asarray(reward_to_go_batch).astype(\"int32\")\n",
    "        )\n",
    "\n",
    "\n",
    "# Instantiate Memory\n",
    "REINFORCE_memory = EpisodeRewardsToGoBuffer(num_transitions_to_store=512, batch_size=256)"
   ]
  },
  {
   "cell_type": "markdown",
   "metadata": {
    "id": "Idkav_aSYXvz"
   },
   "source": [
    "### Policy neural network\n",
    "Далее мы будем использовать простую нейронную сеть для аппроксимации политики. Наша нейронная сеть политики будет иметь входной слой, который принимает наблюдение в качестве входных данных и пропускает его через два скрытых слоя, а затем выводит одно скалярное значение для каждого из возможных действий. Таким образом, в CartPole выходной слой будет иметь размер `2`.\n",
    "\n",
    "[Haiku](https://github.com/deepmind/dm-haiku) — это библиотека для реализации нейронных сетей в JAX. Ниже мы реализовали простую функцию для создания сети политики для вас.\n"
   ]
  },
  {
   "cell_type": "code",
   "execution_count": 121,
   "metadata": {
    "executionInfo": {
     "elapsed": 2,
     "status": "ok",
     "timestamp": 1733573454316,
     "user": {
      "displayName": "Владислав Ладыгин",
      "userId": "15124880944112457695"
     },
     "user_tz": -300
    },
    "id": "j2XO7VkORjM4"
   },
   "outputs": [],
   "source": [
    "def make_policy_network(num_actions: int, layers=[20, 20]) -> hk.Transformed:\n",
    "  \"\"\"Factory for a simple MLP network for the policy.\"\"\"\n",
    "\n",
    "  def policy_network(obs):\n",
    "    network = hk.Sequential(\n",
    "        [\n",
    "            hk.Flatten(),\n",
    "            hk.nets.MLP(layers + [num_actions])\n",
    "        ]\n",
    "    )\n",
    "    return network(obs)\n",
    "\n",
    "  return hk.without_apply_rng(hk.transform(policy_network))"
   ]
  },
  {
   "cell_type": "markdown",
   "metadata": {
    "id": "1GR2y8FjaG-G"
   },
   "source": [
    "У сетей Haiku есть две важные функции, о которых вам нужно знать. Первая — `network.init(<random_key>, <input>)`, которая возвращает набор случайных начальных параметров. Второй метод — `network.apply(<params>, <input>)`, который передает входные данные через сеть, используя предоставленный набор параметров."
   ]
  },
  {
   "cell_type": "code",
   "execution_count": 122,
   "metadata": {
    "colab": {
     "base_uri": "https://localhost:8080/"
    },
    "executionInfo": {
     "elapsed": 1130,
     "status": "ok",
     "timestamp": 1733573455444,
     "user": {
      "displayName": "Владислав Ладыгин",
      "userId": "15124880944112457695"
     },
     "user_tz": -300
    },
    "id": "fJrn9o-Vatkw",
    "outputId": "e8d1d2b4-5270-4e08-b710-59cc86201d07"
   },
   "outputs": [
    {
     "name": "stdout",
     "output_type": "stream",
     "text": [
      "Initial params: dict_keys(['mlp/~/linear_0', 'mlp/~/linear_1', 'mlp/~/linear_2'])\n",
      "Policy network output: [ 0.91155875 -0.3961737 ]\n"
     ]
    }
   ],
   "source": [
    "# Example\n",
    "POLICY_NETWORK = make_policy_network(num_actions=num_actions, layers=[20,20])\n",
    "random_key = jax.random.PRNGKey(42) # random key\n",
    "dummy_obs = np.ones(obs_shape, \"float32\")\n",
    "\n",
    "# Initialise parameters\n",
    "REINFORCE_params = POLICY_NETWORK.init(random_key, dummy_obs)\n",
    "print(\"Initial params:\", REINFORCE_params.keys())\n",
    "\n",
    "# Pass input through the network\n",
    "output = POLICY_NETWORK.apply(REINFORCE_params, dummy_obs)\n",
    "print(\"Policy network output:\", output)\n"
   ]
  },
  {
   "cell_type": "markdown",
   "metadata": {
    "id": "MlouUBvoeunz"
   },
   "source": [
    "Выходы нашей сети политик — [логиты](https://qr.ae/pv4YTe). Чтобы преобразовать это в распределение вероятностей по действиям, мы передаем логиты в функцию [softmax](https://en.wikipedia.org/wiki/Softmax_function).\n",
    "\n",
    "### УСИЛЕНИЕ выбор функции действия\n",
    "\n",
    "**Упражнение 8:** Завершите функцию ниже, которая берет вектор логитов и случайным образом выбирает действие из категориального распределения, заданного логитами.\n",
    "\n",
    "**Полезные функции:**"
   ]
  },
  {
   "cell_type": "code",
   "execution_count": 123,
   "metadata": {
    "executionInfo": {
     "elapsed": 8,
     "status": "ok",
     "timestamp": 1733573455444,
     "user": {
      "displayName": "Владислав Ладыгин",
      "userId": "15124880944112457695"
     },
     "user_tz": -300
    },
    "id": "m3Z8DxUmeOGJ"
   },
   "outputs": [],
   "source": [
    "def sample_action(random_key, logits):\n",
    "\n",
    "  # YOUR CODE HERE\n",
    "  action = jax.random.categorical(key=random_key, logits=logits)\n",
    "\n",
    "  # END YOUR code\n",
    "\n",
    "  return action"
   ]
  },
  {
   "cell_type": "code",
   "execution_count": 124,
   "metadata": {
    "colab": {
     "base_uri": "https://localhost:8080/"
    },
    "executionInfo": {
     "elapsed": 8,
     "status": "ok",
     "timestamp": 1733573455445,
     "user": {
      "displayName": "Владислав Ладыгин",
      "userId": "15124880944112457695"
     },
     "user_tz": -300
    },
    "id": "5opHJMO0D_Ub",
    "outputId": "832c949d-c36e-431c-ac70-411dd074b81e"
   },
   "outputs": [
    {
     "name": "stdout",
     "output_type": "stream",
     "text": [
      "Seems correct.\n"
     ]
    }
   ],
   "source": [
    "#@title Проверка упр 8 {display-mode: \"form\"}\n",
    "\n",
    "try:\n",
    "  random_key = jax.random.PRNGKey(42) # random key\n",
    "  action = sample_action(random_key, np.array([1,2], \"float32\"))\n",
    "  if action != 1:\n",
    "    print(\"Your function is incorrect.\")\n",
    "  else:\n",
    "    print(\"Seems correct.\")\n",
    "except Exception as e:\n",
    "    print(\"An Error Occured: {}\".format(e))"
   ]
  },
  {
   "cell_type": "markdown",
   "metadata": {
    "id": "jP5UH87VRjM4"
   },
   "source": [
    "Теперь мы можем реализовать функцию `REINFORCE_choose_action`. Мы передадим наблюдение через сеть политики для вычисления логитов, а затем передадим логиты в функцию `sample_action` для выбора и действия."
   ]
  },
  {
   "cell_type": "code",
   "execution_count": 125,
   "metadata": {
    "executionInfo": {
     "elapsed": 6,
     "status": "ok",
     "timestamp": 1733573455445,
     "user": {
      "displayName": "Владислав Ладыгин",
      "userId": "15124880944112457695"
     },
     "user_tz": -300
    },
    "id": "UJTzrDAZ0Ul5"
   },
   "outputs": [],
   "source": [
    "def REINFORCE_choose_action(key, params, actor_state, obs, evaluation=False):\n",
    "  obs = jnp.expand_dims(obs, axis=0) # add dummy batch dim before passing through network\n",
    "\n",
    "  # Pass obs through policy network to compute logits\n",
    "  logits = POLICY_NETWORK.apply(params, obs)\n",
    "  logits = logits[0] # remove batch dim\n",
    "\n",
    "  # Randomly sample action\n",
    "  sampled_action = sample_action(key, logits)\n",
    "\n",
    "  return sampled_action, actor_state"
   ]
  },
  {
   "cell_type": "markdown",
   "metadata": {
    "id": "NI26SLAb7iRo"
   },
   "source": [
    "Теперь, когда мы реализовали функцию `REINFORCE_choose_action`, нам осталось только создать функцию `REINFORCE_learn`. Функция обучения должна использовать функцию `weighted_log_prob`, которую мы создали ранее, чтобы вычислить потери градиента политики и применить обновления градиента к нашей нейронной сети."
   ]
  },
  {
   "cell_type": "markdown",
   "metadata": {
    "id": "36ALCJESQJ8e"
   },
   "source": [
    "### Policy gradient loss\n",
    "\n",
    "\n",
    "**Упражнение 9:** Завершите функцию `policy_gradient_loss` ниже. Функция должна вычислять вероятности действий, пропуская `logits` через функцию softmax. Затем следует извлечь вероятность заданного `action` (используя индексацию массива) и вычислить `weighted_log_prob`, используя функцию, которую мы создали ранее.\n",
    "\n",
    "**Полезные методы:**\n",
    "*   `jax.nn.softmax` ([docs](https://jax.readthedocs.io/en/latest/_autosummary/jax.nn.softmax.html))"
   ]
  },
  {
   "cell_type": "code",
   "execution_count": 126,
   "metadata": {
    "executionInfo": {
     "elapsed": 5,
     "status": "ok",
     "timestamp": 1733573455445,
     "user": {
      "displayName": "Владислав Ладыгин",
      "userId": "15124880944112457695"
     },
     "user_tz": -300
    },
    "id": "9sUKkqx0RjM4"
   },
   "outputs": [],
   "source": [
    "def policy_gradient_loss(action, logits, reward_to_go):\n",
    "\n",
    "  # YOUR CODE\n",
    "\n",
    "  all_action_probs = jax.nn.softmax(x=logits) # convert logits into probs\n",
    "\n",
    "  action_prob = all_action_probs[action] # using array indexing to get prob of action\n",
    "\n",
    "  weighted_log_prob = compute_weighted_log_prob(action_prob=action_prob, episode_return=reward_to_go)\n",
    "\n",
    "  # END YOUR CODE\n",
    "\n",
    "  loss = - weighted_log_prob # negative because we want gradient `ascent`\n",
    "  print(loss)\n",
    "  return loss"
   ]
  },
  {
   "cell_type": "code",
   "execution_count": 127,
   "metadata": {
    "colab": {
     "base_uri": "https://localhost:8080/"
    },
    "executionInfo": {
     "elapsed": 332,
     "status": "ok",
     "timestamp": 1733573455772,
     "user": {
      "displayName": "Владислав Ладыгин",
      "userId": "15124880944112457695"
     },
     "user_tz": -300
    },
    "id": "7AMJvau1FsM5",
    "outputId": "11a5b99f-b4b0-4a24-fe8f-4202169c41ae"
   },
   "outputs": [
    {
     "name": "stdout",
     "output_type": "stream",
     "text": [
      "3.1326165\n",
      "Looks correct.\n"
     ]
    }
   ],
   "source": [
    "#@title Проверка упр 9 {display-mode: \"form\"}\n",
    "\n",
    "try:\n",
    "  result = policy_gradient_loss(1, np.array([1,2], \"float32\"), 10)\n",
    "  if result != 3.1326165:\n",
    "    print(\"Your implementation looks wrong.\")\n",
    "  else:\n",
    "    print(\"Looks correct.\")\n",
    "except Exception as e:\n",
    "  print(\"An Error Occured: {}\".format(e))\n"
   ]
  },
  {
   "cell_type": "markdown",
   "metadata": {
    "id": "Gzuqx1jJrwVx"
   },
   "source": [
    "Когда мы делаем шаг обновления градиента политики, мы захотим сделать это, используя пакет опыта, а не просто один опыт, как выше. Мы можем использовать функцию JAX [vmap](https://jax.readthedocs.io/en/latest/_autosummary/jax.vmap.html#jax.vmap), чтобы легко заставить нашу функцию `policy_gradient_loss` работать с пакетом опыта."
   ]
  },
  {
   "cell_type": "code",
   "execution_count": 128,
   "metadata": {
    "colab": {
     "base_uri": "https://localhost:8080/"
    },
    "executionInfo": {
     "elapsed": 798,
     "status": "ok",
     "timestamp": 1733573456568,
     "user": {
      "displayName": "Владислав Ладыгин",
      "userId": "15124880944112457695"
     },
     "user_tz": -300
    },
    "id": "3yq4naLURjM4",
    "outputId": "cbd42fbb-7ac6-40ad-b36e-4f501a3b1700"
   },
   "outputs": [
    {
     "name": "stdout",
     "output_type": "stream",
     "text": [
      "Traced<ShapedArray(float32[])>with<BatchTrace> with\n",
      "  val = Array([3.5583065, 1.0292372, 0.5026507], dtype=float32)\n",
      "  batch_dim = 0\n",
      "Policy gradient loss on batch: 1.6967314\n"
     ]
    }
   ],
   "source": [
    "def batched_policy_gradient_loss(params, obs_batch, action_batch, reward_to_go_batch):\n",
    "    # Get logits by passing observation through network\n",
    "    logits_batch = POLICY_NETWORK.apply(params, obs_batch)\n",
    "\n",
    "    policy_gradient_loss_batch = jax.vmap(policy_gradient_loss)(\n",
    "        action_batch,\n",
    "        logits_batch,\n",
    "        reward_to_go_batch) # add batch\n",
    "\n",
    "    # Compute mean loss over batch\n",
    "    mean_policy_gradient_loss = jnp.mean(policy_gradient_loss_batch)\n",
    "\n",
    "    return mean_policy_gradient_loss\n",
    "\n",
    "# TEST\n",
    "obs_batch = np.ones((3, *obs_shape), \"float32\")\n",
    "actions_batch = np.array([1,0,0])\n",
    "rew2go_batch = np.array([2.3, 4.3, 2.1])\n",
    "\n",
    "loss = batched_policy_gradient_loss(REINFORCE_params, obs_batch, actions_batch, rew2go_batch)\n",
    "\n",
    "print(\"Policy gradient loss on batch:\", loss)"
   ]
  },
  {
   "cell_type": "markdown",
   "metadata": {
    "id": "VDhTH3culwqo"
   },
   "source": [
    "### Оптимизатор сети\n",
    "\n",
    "Чтобы применить обновления градиента политики к нашей нейронной сети, мы будем использовать библиотеку JAX под названием [Optax](https://github.com/deepmind/optax). Optax имеет реализацию [оптимизатора Adam](https://www.geeksforgeeks.org/intuition-of-adam-optimizer/), которую мы можем использовать."
   ]
  },
  {
   "cell_type": "code",
   "execution_count": 129,
   "metadata": {
    "executionInfo": {
     "elapsed": 4,
     "status": "ok",
     "timestamp": 1733573456569,
     "user": {
      "displayName": "Владислав Ладыгин",
      "userId": "15124880944112457695"
     },
     "user_tz": -300
    },
    "id": "pxXINlMHP5Ic"
   },
   "outputs": [],
   "source": [
    "REINFORCE_OPTIMIZER = optax.adam(1e-3)\n",
    "\n",
    "# Initialise the optimiser\n",
    "REINFORCE_optim_state = REINFORCE_OPTIMIZER.init(REINFORCE_params)"
   ]
  },
  {
   "cell_type": "markdown",
   "metadata": {
    "id": "ViENrHOALbCw"
   },
   "source": [
    "Теперь у нас есть все необходимое для создания функции `REINFORCE_learn`. Мы сохраним состояние оптимизатора в `learn_state`. Мы вычислим градиент потерь градиента политики с помощью  `jax.grad` ([docs](https://jax.readthedocs.io/en/latest/_autosummary/jax.grad.html))."
   ]
  },
  {
   "cell_type": "code",
   "execution_count": 130,
   "metadata": {
    "executionInfo": {
     "elapsed": 3,
     "status": "ok",
     "timestamp": 1733573456569,
     "user": {
      "displayName": "Владислав Ладыгин",
      "userId": "15124880944112457695"
     },
     "user_tz": -300
    },
    "id": "CQr2Uz5ORjM5"
   },
   "outputs": [],
   "source": [
    "# A NamedTuple to store the state of the optimiser\n",
    "REINFORCELearnState = collections.namedtuple(\"LearnerState\", [\"optim_state\"])\n",
    "\n",
    "\n",
    "def REINFORCE_learn(key, params, learner_state, memory):\n",
    "\n",
    "  # Get the policy gradient by using `jax.grad()` on `batched_policy_gradient_loss`\n",
    "  grad_loss = jax.grad(batched_policy_gradient_loss)(params, memory.obs, memory.action, memory.reward_to_go)\n",
    "\n",
    "  # Get param updates using gradient and optimizer\n",
    "  updates, new_optim_state = REINFORCE_OPTIMIZER.update(grad_loss, learner_state.optim_state)\n",
    "\n",
    "  # Apply updates to params\n",
    "  params = optax.apply_updates(params, updates)\n",
    "\n",
    "  return params, REINFORCELearnState(new_optim_state) # update learner state"
   ]
  },
  {
   "cell_type": "markdown",
   "metadata": {
    "id": "5an3U2NhRKgG"
   },
   "source": [
    "### Цикл обучения REINFORCE\n",
    "Теперь мы можем обучить нашего агента REINFORCE, собрав все воедино с помощью цикла обучения."
   ]
  },
  {
   "cell_type": "code",
   "execution_count": 131,
   "metadata": {
    "colab": {
     "base_uri": "https://localhost:8080/",
     "height": 822
    },
    "executionInfo": {
     "elapsed": 750920,
     "status": "ok",
     "timestamp": 1733574207486,
     "user": {
      "displayName": "Владислав Ладыгин",
      "userId": "15124880944112457695"
     },
     "user_tz": -300
    },
    "id": "vioIcVGsRjM5",
    "outputId": "ff1eb8ce-9f5b-44e9-dad4-5f8ac5ff500b"
   },
   "outputs": [
    {
     "name": "stdout",
     "output_type": "stream",
     "text": [
      "Starting training. This may take up to 10 minutes to complete.\n",
      "Episode: 0\tEpisode Return: 12.0\tAverage Episode Return: 12.0\tEvaluator Episode Return: 17.5\n",
      "Traced<ShapedArray(float32[])>with<BatchTrace> with\n",
      "  val = Traced<ShapedArray(float32[256])>with<JVPTrace> with\n",
      "    primal = Traced<ShapedArray(float32[256])>with<DynamicJaxprTrace>\n",
      "    tangent = Traced<ShapedArray(float32[256])>with<JaxprTrace> with\n",
      "      pval = (ShapedArray(float32[256]), None)\n",
      "      recipe = JaxprEqnRecipe(eqn_id=<object object at 0x000001E8B0283180>, in_tracers=(Traced<ShapedArray(float32[256]):JaxprTrace>,), out_tracer_refs=[<weakref at 0x000001E8B12862A0; to 'JaxprTracer' at 0x000001E8B1285EE0>], out_avals=[ShapedArray(float32[256])], primitive=pjit, params={'jaxpr': { \u001b[34m\u001b[22m\u001b[1mlambda \u001b[39m\u001b[22m\u001b[22m; a\u001b[35m:f32[256]\u001b[39m. \u001b[34m\u001b[22m\u001b[1mlet\u001b[39m\u001b[22m\u001b[22m b\u001b[35m:f32[256]\u001b[39m = neg a \u001b[34m\u001b[22m\u001b[1min \u001b[39m\u001b[22m\u001b[22m(b,) }, 'in_shardings': (UnspecifiedValue,), 'out_shardings': (UnspecifiedValue,), 'in_layouts': (None,), 'out_layouts': (None,), 'resource_env': None, 'donated_invars': (False,), 'name': 'negative', 'keep_unused': False, 'inline': True, 'compiler_options_kvs': ()}, effects=set(), source_info=<jax._src.source_info_util.SourceInfo object at 0x000001E8B123D7E0>, ctx=JaxprEqnContext(compute_type=None, threefry_partitionable=False, cur_abstract_mesh=None, xla_metadata={}))\n",
      "  batch_dim = 0\n",
      "Episode: 100\tEpisode Return: 57.0\tAverage Episode Return: 38.55\tEvaluator Episode Return: 41.0\n",
      "Episode: 200\tEpisode Return: 172.0\tAverage Episode Return: 159.9\tEvaluator Episode Return: 185.5\n",
      "Episode: 300\tEpisode Return: 200.0\tAverage Episode Return: 193.0\tEvaluator Episode Return: 200.0\n",
      "Episode: 400\tEpisode Return: 200.0\tAverage Episode Return: 192.25\tEvaluator Episode Return: 199.625\n",
      "Episode: 500\tEpisode Return: 200.0\tAverage Episode Return: 182.45\tEvaluator Episode Return: 168.5\n",
      "Episode: 600\tEpisode Return: 200.0\tAverage Episode Return: 169.4\tEvaluator Episode Return: 200.0\n",
      "Episode: 700\tEpisode Return: 200.0\tAverage Episode Return: 200.0\tEvaluator Episode Return: 184.375\n",
      "Episode: 800\tEpisode Return: 200.0\tAverage Episode Return: 198.05\tEvaluator Episode Return: 186.5\n",
      "Episode: 900\tEpisode Return: 200.0\tAverage Episode Return: 200.0\tEvaluator Episode Return: 200.0\n",
      "Episode: 1000\tEpisode Return: 200.0\tAverage Episode Return: 192.2\tEvaluator Episode Return: 200.0\n"
     ]
    },
    {
     "data": {
      "image/png": "[encoded data removed]",
      "text/plain": [
       "<Figure size 640x480 with 1 Axes>"
      ]
     },
     "metadata": {},
     "output_type": "display_data"
    }
   ],
   "source": [
    "# JIT the choose_action and learn functions for more speed\n",
    "REINFORCE_learn_jit = jax.jit(REINFORCE_learn)\n",
    "REINFORCE_choose_action_jit = jax.jit(REINFORCE_choose_action)\n",
    "\n",
    "# Initial learn state\n",
    "REINFORCE_learn_state = REINFORCELearnState(REINFORCE_optim_state)\n",
    "\n",
    "# Run training loop\n",
    "print(\"Starting training. This may take up to 10 minutes to complete.\")\n",
    "episode_returns, evaluator_returns = run_training_loop(\n",
    "                                        env_name,\n",
    "                                        REINFORCE_params,\n",
    "                                        REINFORCE_choose_action_jit,\n",
    "                                        None, # action state not used\n",
    "                                        REINFORCE_learn_jit,\n",
    "                                        REINFORCE_learn_state,\n",
    "                                        REINFORCE_memory,\n",
    "                                        num_episodes=1001,\n",
    "                                        learn_steps_per_episode=2,\n",
    "                                        video_subdir=\"reinforce\"\n",
    "                                      )\n",
    "\n",
    "# Plot the episode returns\n",
    "plt.plot(episode_returns)\n",
    "plt.xlabel(\"Episode\")\n",
    "plt.ylabel(\"Episode Return\")\n",
    "plt.title(\"REINFORCE\")\n",
    "plt.show()\n"
   ]
  },
  {
   "cell_type": "code",
   "execution_count": 132,
   "metadata": {
    "colab": {
     "base_uri": "https://localhost:8080/",
     "height": 288
    },
    "executionInfo": {
     "elapsed": 7,
     "status": "ok",
     "timestamp": 1733574207486,
     "user": {
      "displayName": "Владислав Ладыгин",
      "userId": "15124880944112457695"
     },
     "user_tz": -300
    },
    "id": "caKL3ngNr_Yh",
    "outputId": "faffdddd-c032-43d0-cb08-f862637dd484"
   },
   "outputs": [
    {
     "data": {
      "text/html": [
       "\n",
       "<video width=400 controls>\n",
       "      <source src=\"data:video/mp4;base64,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\" type=\"video/mp4\">\n",
       "</video>\n"
      ],
      "text/plain": [
       "<IPython.core.display.HTML object>"
      ]
     },
     "execution_count": 132,
     "metadata": {},
     "output_type": "execute_result"
    }
   ],
   "source": [
    "#@title Визуализация {display-mode: \"form\"}\n",
    "#@markdown Выберите номер эпизода, менее или равного 1000, и **run this cell**.\n",
    "\n",
    "episode_number = 1000 #@param {type:\"number\"}\n",
    "\n",
    "assert (episode_number % 100) == 0, \"Episode number must be a multiple of 100 since we only record every 100th episode.\"\n",
    "assert episode_number < 1001, \"Episode number must be less than or equal to 1000\"\n",
    "\n",
    "eval_episode_number = int(episode_number / 100 * 8)\n",
    "video_path = f\"./video/reinforce/eval/rl-video-episode-{eval_episode_number}.mp4\"\n",
    "\n",
    "mp4 = open(video_path,'rb').read()\n",
    "data_url = \"data:video/mp4;base64,\" + b64encode(mp4).decode()\n",
    "HTML(\"\"\"\n",
    "<video width=400 controls>\n",
    "      <source src=\"%s\" type=\"video/mp4\">\n",
    "</video>\n",
    "\"\"\" % data_url)"
   ]
  },
  {
   "cell_type": "markdown",
   "metadata": {
    "id": "D_HHzFTOc-Qr"
   },
   "source": [
    "## 4. Q-Learning\n",
    "Другим распространенным подходом к поиску оптимальной политики в среде с использованием RL является Q-обучение."
   ]
  },
  {
   "cell_type": "markdown",
   "metadata": {
    "id": "lF1nOZrUSzhE"
   },
   "source": [
    "### Функция значения состояния-действия\n",
    "В Q-обучении агент изучает функцию, которая аппроксимирует **значение** пар состояние-действие. Под *значением* мы подразумеваем отдачу, которую вы ожидаете получить, если начнете в определенном состоянии $s_t$, выполните определенное действие $a_t$, а затем будете действовать в соответствии с определенной политикой $\\pi$ навсегда. Функция значения состояния-действия политики $\\pi$ задается как\n",
    "\n",
    "$Q_\\pi(s,a)=\\mathrm{E}_{\\tau\\sim\\pi}\\left[R(\\tau) \\mid s_0=s,\\ a_t=a\\right]$.\n",
    "\n",
    "Мы говорим, что функция значения $Q_\\pi(s,a)$ является **оптимальной** функцией значения, если политика $\\pi$ является оптимальной политикой. Обозначим функцию оптимального значения следующим образом:\n",
    "\n",
    "$Q_\\ast(s,a)=\\max \\limits_\\pi \\ \\mathrm{E}_{\\tau\\sim\\pi}\\left[R(\\tau) \\mid s_0=s,\\ a_0=a\\right]$\n",
    "\n",
    "Существует важная связь между оптимальным действием $a_\\ast$ в состоянии $s$ и оптимальной функцией значения состояния-действия $Q_\\ast$. А именно, оптимальное действие $a_\\ast$ в состоянии $s$ равно действию, которое максимизирует оптимальную функцию значения состояния-действия. Эта связь естественным образом индуцирует оптимальную политику:\n",
    "\n",
    "$\\pi_\\ast(s)=\\arg \\max \\limits_a\\ Q_\\ast(s, a)$"
   ]
  },
  {
   "cell_type": "markdown",
   "metadata": {
    "id": "H2x2tqvZSihz"
   },
   "source": [
    "### Greedy action selection (Жадный выбор действия)\n",
    "\n",
    "**Упражнение 10:** Давайте реализуем функцию, которая, учитывая вектор Q-значений, возвращает действие с наибольшим Q-значением (т. е. жадное действие).\n",
    "\n",
    "**Useful methods:**\n",
    "*   `jax.numpy.argmax` ([docs](https://jax.readthedocs.io/en/latest/_autosummary/jax.numpy.argmax.html))"
   ]
  },
  {
   "cell_type": "code",
   "execution_count": 133,
   "metadata": {
    "executionInfo": {
     "elapsed": 6,
     "status": "ok",
     "timestamp": 1733574207486,
     "user": {
      "displayName": "Владислав Ладыгин",
      "userId": "15124880944112457695"
     },
     "user_tz": -300
    },
    "id": "Nn9P1YdzTIDU"
   },
   "outputs": [],
   "source": [
    "# Implement a function takes q-values as input and returns the greedy_action\n",
    "def select_greedy_action(q_values):\n",
    "\n",
    "  # YOUR CODE\n",
    "  action = jax.numpy.argmax(a=q_values)\n",
    "  # END YOUR CODE\n",
    "\n",
    "  return action"
   ]
  },
  {
   "cell_type": "code",
   "execution_count": 134,
   "metadata": {
    "colab": {
     "base_uri": "https://localhost:8080/"
    },
    "executionInfo": {
     "elapsed": 6,
     "status": "ok",
     "timestamp": 1733574207487,
     "user": {
      "displayName": "Владислав Ладыгин",
      "userId": "15124880944112457695"
     },
     "user_tz": -300
    },
    "id": "ZBzLr_G7QKXR",
    "outputId": "17326315-8e1b-4a6a-d1cc-5c18a364a22e"
   },
   "outputs": [
    {
     "name": "stdout",
     "output_type": "stream",
     "text": [
      "Looks good.\n"
     ]
    }
   ],
   "source": [
    "# @title Проверка упр 10 (run me) {display-mode: \"form\"}\n",
    "\n",
    "try:\n",
    "  q_values = jnp.array([1,1,3,4])\n",
    "  action = select_greedy_action(q_values)\n",
    "\n",
    "  if action != 3:\n",
    "    print(\"Incorrect answer, your greedy action selector looks wrong\")\n",
    "  else:\n",
    "    print(\"Looks good.\")\n",
    "except Exception as e:\n",
    "  print(\"An Error Occured: {}\".format(e))\n"
   ]
  },
  {
   "cell_type": "markdown",
   "metadata": {
    "id": "PFQUlqZ4ZyLp"
   },
   "source": [
    "### Q-Network\n",
    "В отличие от подхода с градиентом политики из предыдущего раздела, в Q-обучении и других методах RL на основе значений нам не нужна параметризация для политики, вместо этого мы параметризуем Q-функцию с помощью нейронной сети $Q_\\theta$. Мы получаем политику из Q-сети, всегда выбирая действие с *наибольшим* значением:\n",
    "\n",
    "$\\hat{\\pi}_\\theta(s)=\\arg \\max \\limits_a\\ Q_{\\theta}(s, a)$\n",
    "\n",
    "Как и ранее, мы будем использовать хайку для создания нейронной сети для аппроксимации этой Q-функции. Сеть будет принимать наблюдение в качестве входных данных, а затем выводить Q-значение для каждого из доступных действий. Таким образом, в случае CartPole выход сети будет иметь размер $2$."
   ]
  },
  {
   "cell_type": "code",
   "execution_count": 135,
   "metadata": {
    "executionInfo": {
     "elapsed": 5,
     "status": "ok",
     "timestamp": 1733574207487,
     "user": {
      "displayName": "Владислав Ладыгин",
      "userId": "15124880944112457695"
     },
     "user_tz": -300
    },
    "id": "9wU1soJYZyLp"
   },
   "outputs": [],
   "source": [
    "def build_network(num_actions: int, layers=[20, 20]) -> hk.Transformed:\n",
    "  \"\"\"Factory for a simple MLP network for approximating Q-values.\"\"\"\n",
    "\n",
    "  def q_network(obs):\n",
    "    network = hk.Sequential(\n",
    "        [hk.Flatten(),\n",
    "         hk.nets.MLP(layers + [num_actions])])\n",
    "    return network(obs)\n",
    "\n",
    "  return hk.without_apply_rng(hk.transform(q_network))"
   ]
  },
  {
   "cell_type": "markdown",
   "metadata": {
    "id": "sUwG-4qTS1zx"
   },
   "source": [
    "Давайте инициализируем нашу Q-сеть и получим начальные параметры."
   ]
  },
  {
   "cell_type": "code",
   "execution_count": 136,
   "metadata": {
    "colab": {
     "base_uri": "https://localhost:8080/"
    },
    "executionInfo": {
     "elapsed": 356,
     "status": "ok",
     "timestamp": 1733574207838,
     "user": {
      "displayName": "Владислав Ладыгин",
      "userId": "15124880944112457695"
     },
     "user_tz": -300
    },
    "id": "1uvq5n2cS9lu",
    "outputId": "2ff0fd7f-aff8-49d5-a71e-bde0cdbb159d"
   },
   "outputs": [
    {
     "name": "stdout",
     "output_type": "stream",
     "text": [
      "Q-Learning params: dict_keys(['mlp/~/linear_0', 'mlp/~/linear_1', 'mlp/~/linear_2'])\n"
     ]
    }
   ],
   "source": [
    "# Initialise Q-network\n",
    "Q_NETWORK = build_network(num_actions=num_actions, layers=[20, 20]) # two actions\n",
    "\n",
    "dummy_obs = jnp.zeros((1,*obs_shape), jnp.float32) # a dummy observation like the one in CartPole\n",
    "\n",
    "random_key = jax.random.PRNGKey(42) # random key\n",
    "Q_NETWORK_PARAMS = Q_NETWORK.init(random_key, dummy_obs) # Get initial params\n",
    "\n",
    "print(\"Q-Learning params:\", Q_NETWORK_PARAMS.keys())"
   ]
  },
  {
   "cell_type": "markdown",
   "metadata": {
    "id": "iqCUeZfhEfyP"
   },
   "source": [
    "Прежде чем мы реализуем функцию потерь, необходимую для обучения нашей Q-сети, давайте сначала обсудим интуицию, стоящую за ней."
   ]
  },
  {
   "cell_type": "markdown",
   "metadata": {
    "id": "vbLig3uSZyLp"
   },
   "source": [
    "### The Bellman Equations (Уравнения Беллмана)\n",
    "Функция значения может быть записана рекурсивно как:\n",
    "\n",
    "$Q_{\\pi}(s, a) =\\underset{s^{\\prime} \\sim P}{\\mathrm{E}}\\left[r(s, a)+ \\underset{a^{\\prime} \\sim \\pi}{\\mathrm{E}}\\left[Q_{\\pi}\\left(s^{\\prime}, a^{\\prime}\\right)\\right]\\right]$,\n",
    "\n",
    "где $s' \\sim P$ — это сокращение для обозначения того, что следующее состояние $s'$ выбирается из функции перехода среды $P(s'\\mid s,a)$. Интуитивно это уравнение говорит, что ценность действия $a$, которое вы предприняли в состоянии $s$, равна вознаграждению $r$, которое вы ожидаете получить, плюс ценность, которую вы ожидаете получить в следующем состоянии $s`$, в котором вы окажетесь, при условии, что вы выберете свое следующее действие $a`$ с политикой $\\pi$. Уравнение Беллмана для оптимальной функции ценности выглядит так:\n",
    "\n",
    "$Q_{*}(s, a) =\\underset{s^{\\prime} \\sim P}{\\mathrm{E}}\\left[r(s, a)+\\ \\underset{a^{\\prime}}{\\max}\\ Q_{*}(s^{\\prime}, a^{\\prime})\\right]$\n",
    "\n",
    "Обратите внимание, что вместо выбора вашего следующего действия $a`$ с политикой $\\pi$ мы выбираем действие с наибольшим значением Q.\n",
    "\n",
    "Более подробное обсуждение уравнений Беллмана можно найти на сайте [OpenAI Spinning Up](https://spinningup.openai.com/en/latest/spinningup/rl_intro.html)."
   ]
  },
  {
   "cell_type": "markdown",
   "metadata": {
    "id": "DsOJi5G8ZyLp"
   },
   "source": [
    "### The Bellman Backup (Резервное копирование Беллмана)\n",
    "\n",
    "Чтобы научиться аппроксимировать оптимальную функцию Q-значения, мы можем использовать правую часть уравнения Беллмана в качестве правила обновления. Другими словами, предположим, что у нас есть Q-сеть $Q_\\theta$, аппроксимированная с использованием параметров $\\theta$, тогда мы можем итеративно обновлять параметры таким образом, что\n",
    "\n",
    "$Q_\\theta(s,a)\\leftarrow r(s, a) + \\underset{a'}{\\max}\\ Q_\\theta(s', a')$.\n",
    "\n",
    "Интуитивно это означает, что аппроксимация Q-значения действия $a$ в состоянии $s$ должна быть обновлена ​​таким образом, чтобы она была ближе к равной вознаграждению, полученному от среды $r(s, a)$, плюс значение наилучшего возможного действия в следующем состоянии $s'$. Мы можем выполнить эту оптимизацию, минимизируя разницу между левой и правой частью относительно параметров $\\theta$, используя градиентный спуск. Мы можем измерить разницу между двумя значениями, используя [квадратичную ошибку](https://en.wikipedia.org/wiki/Mean_squared_error#Loss_function).\n",
    "\n",
    "**Упражнение 11:** Реализуйте функцию квадратичной ошибки.\n",
    "\n",
    "**Полезные функции**\n",
    "* `jax.numpy.square` ([docs](https://jax.readthedocs.io/en/latest/_autosummary/jax.numpy.square.html))"
   ]
  },
  {
   "cell_type": "code",
   "execution_count": 137,
   "metadata": {
    "executionInfo": {
     "elapsed": 8,
     "status": "ok",
     "timestamp": 1733574207838,
     "user": {
      "displayName": "Владислав Ладыгин",
      "userId": "15124880944112457695"
     },
     "user_tz": -300
    },
    "id": "PTto__ohZyLp"
   },
   "outputs": [],
   "source": [
    "def compute_squared_error(pred, target):\n",
    "  # YOUR CODE\n",
    "  squared_error = jax.numpy.square(pred-target)\n",
    "  # END YOUR CODE\n",
    "\n",
    "  return squared_error"
   ]
  },
  {
   "cell_type": "code",
   "execution_count": 138,
   "metadata": {
    "colab": {
     "base_uri": "https://localhost:8080/"
    },
    "executionInfo": {
     "elapsed": 8,
     "status": "ok",
     "timestamp": 1733574207839,
     "user": {
      "displayName": "Владислав Ладыгин",
      "userId": "15124880944112457695"
     },
     "user_tz": -300
    },
    "id": "wGhX8XTFVPVU",
    "outputId": "93d6afdd-afc0-4658-aed6-79e6c352536d"
   },
   "outputs": [
    {
     "name": "stdout",
     "output_type": "stream",
     "text": [
      "Looks good.\n"
     ]
    }
   ],
   "source": [
    "#@title Проверка упр 11 {display-mode: \"form\"}\n",
    "\n",
    "try:\n",
    "  result = compute_squared_error(1, 4)\n",
    "\n",
    "  if result != 9:\n",
    "    print(\"Your implementation looks wrong.\")\n",
    "  else:\n",
    "    print(\"Looks good.\")\n",
    "except Exception as e:\n",
    "  print(\"An Error Occured: {}\".format(e))"
   ]
  },
  {
   "cell_type": "markdown",
   "metadata": {
    "id": "ycpZVkgdZyLp"
   },
   "source": [
    "**Упражнение 12:** Реализуйте функцию, которая вычисляет **цель Беллмана** (правая часть уравнения Беллмана). Если эпизод находится на последнем временном шаге (т. е. done==1.0), то цель Беллмана должна быть равна награде, без дополнительного значения в конце.\n",
    "\n",
    "**Полезные функции**\n",
    "* `jax.numpy.max` ([docs](https://jax.readthedocs.io/en/latest/_autosummary/jax.numpy.max.html))"
   ]
  },
  {
   "cell_type": "code",
   "execution_count": 139,
   "metadata": {
    "executionInfo": {
     "elapsed": 7,
     "status": "ok",
     "timestamp": 1733574207839,
     "user": {
      "displayName": "Владислав Ладыгин",
      "userId": "15124880944112457695"
     },
     "user_tz": -300
    },
    "id": "961_OllWZyLp"
   },
   "outputs": [],
   "source": [
    "# Bellman target\n",
    "def compute_bellman_target(reward, done, next_q_values):\n",
    "  \"\"\"A function to compute the bellman target.\n",
    "\n",
    "  Args:\n",
    "      reward: a scalar reward.\n",
    "      done: a scalar of value either 1.0 or 0.0, indicating if the transition is a terminal one.\n",
    "      next_q_values: a vector of q_values for the next state. One for each action.\n",
    "  Returns:\n",
    "      A scalar equal to the bellman target.\n",
    "\n",
    "  \"\"\"\n",
    "  # YOUR CODE\n",
    "  bellman_target = reward + jax.numpy.max(a=next_q_values) * (1.0 - done)\n",
    "  # END YOUR CODE\n",
    "\n",
    "  return bellman_target"
   ]
  },
  {
   "cell_type": "code",
   "execution_count": 140,
   "metadata": {
    "colab": {
     "base_uri": "https://localhost:8080/"
    },
    "executionInfo": {
     "elapsed": 7,
     "status": "ok",
     "timestamp": 1733574207839,
     "user": {
      "displayName": "Владислав Ладыгин",
      "userId": "15124880944112457695"
     },
     "user_tz": -300
    },
    "id": "E5RAhegOWAkC",
    "outputId": "8510822a-5813-40a3-eef8-728bbd2e5260"
   },
   "outputs": [
    {
     "name": "stdout",
     "output_type": "stream",
     "text": [
      "Looks good.\n"
     ]
    }
   ],
   "source": [
    "#@title Проверка упр 12 {display-mode: \"form\"}\n",
    "\n",
    "try:\n",
    "  # not done\n",
    "  result1 = compute_bellman_target(1, 0.0, np.array([3,2], \"float32\"))\n",
    "\n",
    "  # done\n",
    "  result2 = compute_bellman_target(1, 1.0, np.array([3,2], \"float32\"))\n",
    "\n",
    "  if result1 != 4 or result2 != 1:\n",
    "    print(\"Your implementation looks wrong.\")\n",
    "  else:\n",
    "    print(\"Looks good.\")\n",
    "except Exception as e:\n",
    "  print(\"An Error Occured: {}\".format(e))"
   ]
  },
  {
   "cell_type": "markdown",
   "metadata": {
    "id": "8sIjrHSJZyLq"
   },
   "source": [
    "Теперь мы можем объединить эти две функции, чтобы вычислить потерю для Q-обучения. Потери Q-обучения равны квадрату разницы между прогнозируемым значением Q действия и его соответствующей целью Беллмана.\n",
    "\n",
    "**Упражнение 13:** Реализуйте функцию потери Q-обучения."
   ]
  },
  {
   "cell_type": "code",
   "execution_count": 141,
   "metadata": {
    "executionInfo": {
     "elapsed": 6,
     "status": "ok",
     "timestamp": 1733574207839,
     "user": {
      "displayName": "Владислав Ладыгин",
      "userId": "15124880944112457695"
     },
     "user_tz": -300
    },
    "id": "LJY_kpFcZyLq"
   },
   "outputs": [],
   "source": [
    "def q_learning_loss(q_values, action, reward, done, next_q_values):\n",
    "    \"\"\"Implementation of the Q-learning loss.T\n",
    "\n",
    "    Args:\n",
    "        q_values: a vector of Q-values, one for each action.\n",
    "        action: an integer, giving the action that was chosen. q_values[action] is the value of the chose action.\n",
    "        done: is a scalar that indicates if this is a terminal transition.\n",
    "        next_q_values: a vector of Q-values in the next state.\n",
    "    Returns:\n",
    "        The squared difference between the q_value of the chosen action and the bellman target.\n",
    "    \"\"\"\n",
    "    # YOUR CODE\n",
    "    chosen_action_q_value = q_values[action] # q_value of action, use array indexing\n",
    "    bellman_target = compute_bellman_target(reward, done, next_q_values)\n",
    "    squared_error = compute_squared_error(chosen_action_q_value, bellman_target)\n",
    "    # END YOUR CODE\n",
    "\n",
    "    return squared_error"
   ]
  },
  {
   "cell_type": "code",
   "execution_count": 142,
   "metadata": {
    "colab": {
     "base_uri": "https://localhost:8080/"
    },
    "executionInfo": {
     "elapsed": 6,
     "status": "ok",
     "timestamp": 1733574207839,
     "user": {
      "displayName": "Владислав Ладыгин",
      "userId": "15124880944112457695"
     },
     "user_tz": -300
    },
    "id": "1aZRn1qaWx2M",
    "outputId": "e0be9320-2efe-49d0-e56f-031773adf10e"
   },
   "outputs": [
    {
     "name": "stdout",
     "output_type": "stream",
     "text": [
      "Looks good.\n"
     ]
    }
   ],
   "source": [
    "#@title Проверка упр 13 {display-mode: \"form\"}\n",
    "\n",
    "try:\n",
    "  result = q_learning_loss(np.array([3,2], \"float32\"), 1, 2, 0.0, np.array([3,2], \"float32\"))\n",
    "\n",
    "  if result != 9.0:\n",
    "    print(\"Your implementation looks wrong.\")\n",
    "  else:\n",
    "    print(\"Looks good.\")\n",
    "except Exception as e:\n",
    "  print(\"An Error Occured: {}\".format(e))"
   ]
  },
  {
   "cell_type": "markdown",
   "metadata": {
    "id": "b4YnSUfJZyLq"
   },
   "source": [
    "### Target Q-network (Целевая Q-сеть)\n",
    "Обратите внимание: когда мы вычисляем цель Беллмана, мы используем нашу Q-сеть $Q_\\theta$ для вычисления значения для следующего состояния $s_t$. По сути, мы используем наше последнее приближение Q-функции для вычисления цели нашего следующего приближения. Использование приближения для вычисления цели для вашего следующего приближения называется самозагрузкой. К сожалению, если мы наивно делаем такую ​​самозагрузку, это может сделать обучение нейронной сети очень нестабильным. Чтобы смягчить это, мы можем вместо этого использовать другой набор параметров $\\hat{\\theta}$ для вычисления значений в состоянии $s_{t+1}$. Мы будем сохранять параметры $\\hat{\\theta}$ фиксированными и только периодически обновлять их, чтобы они были равны последним онлайн-параметрам $\\theta$ каждые пару шагов обучения *(скажем, 100)*. Это позволяет сохранять фиксированные цели Беллмана для пары шагов обучения, чтобы помочь снизить нестабильность из-за самозагрузки.\n",
    "\n",
    "Нам нужно будет отслеживать последние (онлайн) параметры, а также параметры целевых сетей. Давайте создадим `NamedTuple` для хранения этих двух значений. Нам также нужно будет отслеживать количество шагов обучения, которые мы сделали, чтобы знать, когда обновлять целевую сеть. Давайте сохраним `count` шагов обучения в `learn_state`."
   ]
  },
  {
   "cell_type": "code",
   "execution_count": 143,
   "metadata": {
    "executionInfo": {
     "elapsed": 5,
     "status": "ok",
     "timestamp": 1733574207839,
     "user": {
      "displayName": "Владислав Ладыгин",
      "userId": "15124880944112457695"
     },
     "user_tz": -300
    },
    "id": "DvZqUKmq6L7k"
   },
   "outputs": [],
   "source": [
    "# Store online and target parameters\n",
    "QLearnParams = collections.namedtuple(\"Params\", [\"online\", \"target\"])\n",
    "\n",
    "# Q-learn-state\n",
    "QLearnState = collections.namedtuple(\"LearnerState\", [\"count\", \"optim_state\"])"
   ]
  },
  {
   "cell_type": "markdown",
   "metadata": {
    "id": "CJWH2_kNZsau"
   },
   "source": [
    "Мы снова будем использовать Optax для оптимизации нашей нейронной сети в JAX. Мы сохраняем состояние оптимизатора в `learn_state` выше. Давайте теперь создадим экземпляр оптимизатора и добавим начальные параметры Q-сети в объект `QLearnParams`."
   ]
  },
  {
   "cell_type": "code",
   "execution_count": 144,
   "metadata": {
    "executionInfo": {
     "elapsed": 5,
     "status": "ok",
     "timestamp": 1733574207839,
     "user": {
      "displayName": "Владислав Ладыгин",
      "userId": "15124880944112457695"
     },
     "user_tz": -300
    },
    "id": "HwqKTN6BaAXE"
   },
   "outputs": [],
   "source": [
    "# Initialise Q-network optimizer\n",
    "Q_LEARN_OPTIMIZER = optax.adam(3e-4) # learning rate\n",
    "\n",
    "Q_LEARN_OPTIM_STATE = Q_LEARN_OPTIMIZER.init(Q_NETWORK_PARAMS) # initial optim state\n",
    "\n",
    "# Create Learn State\n",
    "Q_LEARNING_LEARN_STATE = QLearnState(0, Q_LEARN_OPTIM_STATE) # count set to zero initially\n",
    "\n",
    "# Add initial Q-network weights to QLearnParams object\n",
    "Q_LEARNING_PARAMS = QLearnParams(online=Q_NETWORK_PARAMS, target=Q_NETWORK_PARAMS) # target equal to online"
   ]
  },
  {
   "cell_type": "markdown",
   "metadata": {
    "id": "xj89M8LgZlFe"
   },
   "source": [
    "Теперь мы можем реализовать простую функцию, которая обновляет параметры целевых сетей, чтобы они соответствовали последним онлайн-параметрам каждые 100 шагов обучения."
   ]
  },
  {
   "cell_type": "code",
   "execution_count": 145,
   "metadata": {
    "executionInfo": {
     "elapsed": 5,
     "status": "ok",
     "timestamp": 1733574207839,
     "user": {
      "displayName": "Владислав Ладыгин",
      "userId": "15124880944112457695"
     },
     "user_tz": -300
    },
    "id": "SKrg_3rO6cCL"
   },
   "outputs": [],
   "source": [
    "def update_target_params(learn_state, online_weights, target_weights):\n",
    "  \"\"\"A function to update target params every 100 training steps\"\"\"\n",
    "\n",
    "  target = jax.lax.cond(\n",
    "      jax.numpy.mod(learn_state.count, 100) == 0,\n",
    "      lambda x, y: x,\n",
    "      lambda x, y: y,\n",
    "      online_weights,\n",
    "      target_weights\n",
    "  )\n",
    "\n",
    "  params = QLearnParams(online_weights, target)\n",
    "\n",
    "  return params"
   ]
  },
  {
   "cell_type": "markdown",
   "metadata": {
    "id": "KoiaYSo9ZyLq"
   },
   "source": [
    "### Q-learning loss (Функция потери Q-обучения)\n",
    "Теперь у нас есть все необходимое для реализации функции `q_learn`, которая принимает некоторую партию переходов и выполняет шаг Q-обучения для обновления параметров сети. Но сначала мы используем `jax.vmap` для изменения функции `q_learning_loss` так, чтобы она принимала партии переходов. Кроме того, мы вычислим Q-значения, передавая наблюдения через `Q_NETWORK`, и целевые Q-значения, используя целевые параметры `Q_NETWORK`."
   ]
  },
  {
   "cell_type": "code",
   "execution_count": 146,
   "metadata": {
    "executionInfo": {
     "elapsed": 4,
     "status": "ok",
     "timestamp": 1733574207839,
     "user": {
      "displayName": "Владислав Ладыгин",
      "userId": "15124880944112457695"
     },
     "user_tz": -300
    },
    "id": "hnrsGppWZyLq"
   },
   "outputs": [],
   "source": [
    "def batched_q_learning_loss(online_params, target_params, obs, actions, rewards, next_obs, dones):\n",
    "    q_values = Q_NETWORK.apply(online_params, obs) # use the online parameters\n",
    "    next_q_values = Q_NETWORK.apply(target_params, next_obs) # use the target parameters\n",
    "    squared_error = jax.vmap(q_learning_loss)(q_values, actions, rewards, dones, next_q_values) # vmap q_learning_loss\n",
    "    mean_squared_error = jnp.mean(squared_error) # mean squared error over batch\n",
    "    return mean_squared_error"
   ]
  },
  {
   "cell_type": "markdown",
   "metadata": {
    "id": "CU8vo9ZebnEa"
   },
   "source": [
    "Теперь мы можем создать функцию `q_learn`, которая вычисляет градиент `batched_q_learning_loss`, а затем использует оптимизатор Optax для обновления весов сети, а затем, наконец (возможно), обновляет целевые параметры."
   ]
  },
  {
   "cell_type": "code",
   "execution_count": 147,
   "metadata": {
    "executionInfo": {
     "elapsed": 4,
     "status": "ok",
     "timestamp": 1733574207839,
     "user": {
      "displayName": "Владислав Ладыгин",
      "userId": "15124880944112457695"
     },
     "user_tz": -300
    },
    "id": "6BYoX2W_ZyLr"
   },
   "outputs": [],
   "source": [
    "def q_learn(rng, params, learner_state, memory):\n",
    "  # Compute gradients\n",
    "  grad_loss = jax.grad(batched_q_learning_loss)(params.online, params.target, memory.obs,\n",
    "                                          memory.action, memory.reward,\n",
    "                                          memory.next_obs, memory.done,\n",
    "                                          ) # jax.grad\n",
    "\n",
    "  # Get updates\n",
    "  updates, opt_state = Q_LEARN_OPTIMIZER.update(grad_loss, learner_state.optim_state)\n",
    "\n",
    "  # Apply them\n",
    "  new_weights = optax.apply_updates(params.online, updates)\n",
    "\n",
    "  # Maybe update target network\n",
    "  params = update_target_params(learner_state, new_weights, params.target)\n",
    "\n",
    "  # Increment learner step counter\n",
    "  learner_state = QLearnState(learner_state.count + 1, opt_state)\n",
    "\n",
    "  return params, learner_state"
   ]
  },
  {
   "cell_type": "markdown",
   "metadata": {
    "id": "VpZsKHssZyLq"
   },
   "source": [
    "### Replay Buffer (Буфер воспроизведения)\n",
    "Для Q-обучения нам понадобится память агента, которая хранит целые переходы: `obs`, `action`, `reward`, `next_obs`, `done`. Когда мы извлекаем переходы из памяти, они должны выбираться случайным образом из всех переходов, собранных до сих пор. В RL мы часто называем такой модуль **буфером воспроизведения**.\n",
    "\n",
    "Одним из преимуществ использования такого буфера воспроизведения является то, что опыт можно повторно использовать несколько раз для обучения, в отличие от алгоритма градиента политики REINFORCE, где мы отбрасывали воспоминания после их использования для обучения."
   ]
  },
  {
   "cell_type": "code",
   "execution_count": 148,
   "metadata": {
    "executionInfo": {
     "elapsed": 4,
     "status": "ok",
     "timestamp": 1733574207839,
     "user": {
      "displayName": "Владислав Ладыгин",
      "userId": "15124880944112457695"
     },
     "user_tz": -300
    },
    "id": "8tv5dUH6ZyLr"
   },
   "outputs": [],
   "source": [
    "class TransitionMemory(object):\n",
    "  \"\"\"A simple Python replay buffer.\"\"\"\n",
    "\n",
    "  def __init__(self, max_size=10_000, batch_size=256):\n",
    "    self.batch_size = batch_size\n",
    "    self.buffer = collections.deque(maxlen=max_size)\n",
    "\n",
    "  def push(self, transition):\n",
    "\n",
    "    # add transition to the replay buffer\n",
    "    self.buffer.append(\n",
    "        (transition.obs, transition.action, transition.reward,\n",
    "          transition.next_obs, transition.done)\n",
    "    )\n",
    "\n",
    "\n",
    "  def is_ready(self):\n",
    "    return self.batch_size <= len(self.buffer)\n",
    "\n",
    "  def sample(self):\n",
    "    # Randomly sample a batch of transitions from the buffer\n",
    "    random_replay_sample = random.sample(self.buffer, self.batch_size)\n",
    "\n",
    "    # Batch the transitions together\n",
    "    obs_batch, action_batch, reward_batch, next_obs_batch, done_batch = zip(*random_replay_sample)\n",
    "\n",
    "    return Transition(\n",
    "        np.stack(obs_batch).astype(\"float32\"),\n",
    "        np.asarray(action_batch).astype(\"int32\"),\n",
    "        np.asarray(reward_batch).astype(\"float32\"),\n",
    "        np.stack(next_obs_batch).astype(\"float32\"),\n",
    "        np.asarray(done_batch).astype(\"float32\")\n",
    "    )\n",
    "\n",
    "# Instantiate the memory\n",
    "Q_LEARNING_MEMORY = TransitionMemory(max_size=50_000, batch_size=256)"
   ]
  },
  {
   "cell_type": "markdown",
   "metadata": {
    "id": "XbHk03VVUHAV"
   },
   "source": [
    "### Случайное исследование\n",
    "У нас почти есть все, что нужно для функционирующего агента Q-обучения. Но одна проблема заключается в том, что если мы всегда выбираем действие с наивысшим значением Q, то политика агента будет полностью [детерминированной](https://www.quora.com/What-is-the-intuitive-difference-between-a-stochastic-model-and-a-deterministic-model). Это означает, что агент всегда будет выбирать одну и ту же стратегию. Это может представлять проблему, поскольку в начале обучения Q-сеть будет очень неточной (т. е. плохой аппроксимацией истинной Q-функции). Таким образом, агент будет последовательно выбирать неоптимальные действия. Более того, агент никогда не отклонится от своей неоптимальной стратегии и никогда не обнаружит новые, потенциально более полезные действия. В результате Q-сеть остается неточной. В идеале агент должен опробовать много разных стратегий, чтобы он мог наблюдать результаты (вознаграждения) своих действий в разных состояниях и таким образом улучшить приближение Q-функции.\n",
    "\n",
    "Один простой способ гарантировать, что агент опробует много разных действий, — позволить ему периодически выбирать некоторые случайные действия вместо жадного (лучшего) действия все время.\n",
    "\n",
    "**Упражнение 14:** Реализуйте функцию, которая, учитывая количество возможных (дискретных) действий, возвращает случайное действие.\n",
    "\n",
    "**Полезные методы:**\n",
    "\n",
    "*  `jax.random.randint` ([docs](https://jax.readthedocs.io/en/latest/_autosummary/jax.random.randint.html))"
   ]
  },
  {
   "cell_type": "code",
   "execution_count": 149,
   "metadata": {
    "executionInfo": {
     "elapsed": 4,
     "status": "ok",
     "timestamp": 1733574207839,
     "user": {
      "displayName": "Владислав Ладыгин",
      "userId": "15124880944112457695"
     },
     "user_tz": -300
    },
    "id": "uUKkpMLXUtko"
   },
   "outputs": [],
   "source": [
    "def select_random_action(key, num_actions):\n",
    "\n",
    "    # YOUR CODE\n",
    "    action = jax.random.randint(key, minval=0, maxval=num_actions, shape=())\n",
    "    # END YOUR CODE\n",
    "\n",
    "    return action"
   ]
  },
  {
   "cell_type": "code",
   "execution_count": 150,
   "metadata": {
    "colab": {
     "base_uri": "https://localhost:8080/"
    },
    "executionInfo": {
     "elapsed": 333,
     "status": "ok",
     "timestamp": 1733574208168,
     "user": {
      "displayName": "Владислав Ладыгин",
      "userId": "15124880944112457695"
     },
     "user_tz": -300
    },
    "id": "NO6va6S2Y40E",
    "outputId": "cb3d4944-e77e-43c1-eb94-c0b1bf8cac7f"
   },
   "outputs": [
    {
     "name": "stdout",
     "output_type": "stream",
     "text": [
      "Looks good.\n"
     ]
    }
   ],
   "source": [
    "#@title Проверка упр 14 {display-mode: \"form\"}\n",
    "\n",
    "try:\n",
    "  random_key1 = random_key = jax.random.PRNGKey(6) # random key\n",
    "  random_key2 = random_key = jax.random.PRNGKey(1000) # random key\n",
    "  result1 = select_random_action(random_key1, 2)\n",
    "  result2 = select_random_action(random_key2, 2)\n",
    "\n",
    "  if result1 != 1 or result2 != 0:\n",
    "    print(\"Your implementation looks wrong.\")\n",
    "  else:\n",
    "    print(\"Looks good.\")\n",
    "except:\n",
    "  print(\"Your implementation looks wrong.\")"
   ]
  },
  {
   "cell_type": "markdown",
   "metadata": {
    "id": "8-kKDFT6XU6y"
   },
   "source": [
    "### $\\varepsilon$-greedy action selection (эпсилон жадный выбор действия)\n",
    "В начале обучения, когда точность Q-сети низкая, агенту стоит в основном совершать случайные действия, чтобы он мог узнать, насколько хороши/плохи действия. Однако по мере повышения точности Q-сети агент должен начать совершать меньше случайных действий и вместо этого начать выбирать жадные действия относительно Q-значений. Выбор лучших действий с учетом текущей Q-сети называется **эксплуатацией**. В RL мы часто называем отношение случайных и жадных действий **эпсилоном** $\\varepsilon$. Эпсилон обычно представляет собой десятичное значение в интервале $[0,1]$, где, например, $\\varepsilon=0.4$ означает, что агент выбирает случайное действие в 40% случаев, а жадное действие — в 60% случаев. В RL принято линейно уменьшать значение эпсилон с течением времени, так что агент становится все более жадным по мере повышения точности его Q-сети в процессе обучения.\n",
    "\n",
    "**Упражнение 15:** Реализуйте функцию, которая принимает количество временных шагов в качестве входных данных и возвращает текущее значение эпсилон."
   ]
  },
  {
   "cell_type": "code",
   "execution_count": 151,
   "metadata": {
    "executionInfo": {
     "elapsed": 4,
     "status": "ok",
     "timestamp": 1733574208168,
     "user": {
      "displayName": "Владислав Ладыгин",
      "userId": "15124880944112457695"
     },
     "user_tz": -300
    },
    "id": "_qejnbCocurG"
   },
   "outputs": [],
   "source": [
    "EPSILON_DECAY_TIMESTEPS = 3000 # decay epsilon over 3000 timesteps\n",
    "EPSILON_MIN = 0.1 # 10% exploration"
   ]
  },
  {
   "cell_type": "code",
   "execution_count": 152,
   "metadata": {
    "executionInfo": {
     "elapsed": 3,
     "status": "ok",
     "timestamp": 1733574208168,
     "user": {
      "displayName": "Владислав Ладыгин",
      "userId": "15124880944112457695"
     },
     "user_tz": -300
    },
    "id": "5ujSbssCZyLs"
   },
   "outputs": [],
   "source": [
    "def get_epsilon(num_timesteps):\n",
    "  # YOUR CODE\n",
    "  epsilon = 1.0 - (num_timesteps/EPSILON_DECAY_TIMESTEPS) # decay epsilon\n",
    "\n",
    "  epsilon = jax.lax.select(\n",
    "      epsilon < EPSILON_MIN,\n",
    "      EPSILON_MIN, # if less than min then set to min\n",
    "      epsilon # else don't change epsilon\n",
    "  )\n",
    "  # END YOUR CODE\n",
    "\n",
    "  return epsilon"
   ]
  },
  {
   "cell_type": "code",
   "execution_count": 153,
   "metadata": {
    "colab": {
     "base_uri": "https://localhost:8080/"
    },
    "executionInfo": {
     "elapsed": 3,
     "status": "ok",
     "timestamp": 1733574208168,
     "user": {
      "displayName": "Владислав Ладыгин",
      "userId": "15124880944112457695"
     },
     "user_tz": -300
    },
    "id": "hvu4zA64aUou",
    "outputId": "ff43d12b-7749-4ba0-af8b-8e7dff62015c"
   },
   "outputs": [
    {
     "name": "stdout",
     "output_type": "stream",
     "text": [
      "Your function looks correct.\n"
     ]
    }
   ],
   "source": [
    "#@title Проверка упр 15 {display-mode: \"form\"}\n",
    "def check_get_epsilon(get_epsilon):\n",
    "  try:\n",
    "    result1 = get_epsilon(10)\n",
    "    result2 = get_epsilon(5_010)\n",
    "\n",
    "    if result1 != 0.99666667 or result2 != 0.1:\n",
    "      print(\"Your function looks wrong.\")\n",
    "    else:\n",
    "      print(\"Your function looks correct.\")\n",
    "  except:\n",
    "    print(\"Your function looks wrong.\")\n",
    "\n",
    "check_get_epsilon(get_epsilon)\n"
   ]
  },
  {
   "cell_type": "markdown",
   "metadata": {
    "id": "t56oo58TVQ_s"
   },
   "source": [
    "**Упражнение 16:** Теперь давайте объединим эти функции для выполнения эпсилон-жадного выбора действия."
   ]
  },
  {
   "cell_type": "code",
   "execution_count": 154,
   "metadata": {
    "executionInfo": {
     "elapsed": 2,
     "status": "ok",
     "timestamp": 1733574208168,
     "user": {
      "displayName": "Владислав Ладыгин",
      "userId": "15124880944112457695"
     },
     "user_tz": -300
    },
    "id": "NlQx8K4vKUXj"
   },
   "outputs": [],
   "source": [
    "def select_epsilon_greedy_action(key, q_values, num_timesteps):\n",
    "    num_actions = len(q_values) # number of available actions\n",
    "\n",
    "    # YOUR CODE HERE\n",
    "    epsilon = get_epsilon(num_timesteps) # get epsilon value\n",
    "\n",
    "    should_explore = jax.random.uniform(key, shape=()) < epsilon # hint: a boolean expression to check if some random number is less than epsilon\n",
    "\n",
    "    explore_action = select_random_action(key, num_actions)\n",
    "    greedy_action = jax.numpy.argmax(q_values)\n",
    "\n",
    "    action = jax.lax.select(\n",
    "        should_explore,\n",
    "        explore_action, # if should explore\n",
    "        greedy_action # if should be greedy\n",
    "    )\n",
    "    # END YOUR CODE\n",
    "\n",
    "    return action\n"
   ]
  },
  {
   "cell_type": "code",
   "execution_count": 155,
   "metadata": {
    "colab": {
     "base_uri": "https://localhost:8080/"
    },
    "executionInfo": {
     "elapsed": 441,
     "status": "ok",
     "timestamp": 1733574208607,
     "user": {
      "displayName": "Владислав Ладыгин",
      "userId": "15124880944112457695"
     },
     "user_tz": -300
    },
    "id": "mkVU2a5e7P6b",
    "outputId": "73631e49-b762-4529-8749-b4248701a04f"
   },
   "outputs": [
    {
     "name": "stdout",
     "output_type": "stream",
     "text": [
      "Looks correct!\n"
     ]
    }
   ],
   "source": [
    "#@title Проверка упражнения 16 {display-mode: \"form\"}\n",
    "\n",
    "try:\n",
    "  rng = hk.PRNGSequence(jax.random.PRNGKey(42))\n",
    "  dummy_q_values = jnp.array([0,1], jnp.float32)\n",
    "  num_timesteps = 5010 # very greedy\n",
    "  actions1 = []\n",
    "  for i in range(10):\n",
    "      actions1.append(int(select_epsilon_greedy_action(next(rng), dummy_q_values, num_timesteps)))\n",
    "\n",
    "  num_timesteps = 0 # completly random\n",
    "  actions2 = []\n",
    "  for i in range(10):\n",
    "      actions2.append(int(select_epsilon_greedy_action(next(rng), dummy_q_values, num_timesteps)))\n",
    "\n",
    "  if actions1 != [1, 1, 0, 1, 1, 0, 1, 1, 1, 1] or actions2 != [0, 0, 0, 1, 1, 1, 1, 0, 0, 0]:\n",
    "    print(\"Looks like something might be incorrect!\")\n",
    "  else:\n",
    "    print(\"Looks correct!\")\n",
    "except:\n",
    "  print(\"Looks like something might be incorrect!\")"
   ]
  },
  {
   "cell_type": "markdown",
   "metadata": {
    "id": "y5W23MnobN9x"
   },
   "source": [
    "### Действие выбора Q-learning\n",
    "\n",
    "Теперь у нас есть все необходимое для создания функции `q_learning_select_action`. Мы будем использовать `actor_state` для хранения счетчика, который отслеживает текущее количество временных шагов. Мы можем использовать счетчик для уменьшения нашего значения `epsilon`."
   ]
  },
  {
   "cell_type": "code",
   "execution_count": 156,
   "metadata": {
    "executionInfo": {
     "elapsed": 2,
     "status": "ok",
     "timestamp": 1733574208607,
     "user": {
      "displayName": "Владислав Ладыгин",
      "userId": "15124880944112457695"
     },
     "user_tz": -300
    },
    "id": "81TysLc0RjM6"
   },
   "outputs": [],
   "source": [
    "# Actor state stores the current number of timesteps\n",
    "QActorState = collections.namedtuple(\"ActorState\", [\"count\"])\n",
    "\n",
    "def q_learning_select_action(key, params, actor_state, obs, evaluation=False):\n",
    "    obs = jnp.expand_dims(obs, axis=0) # add dummy batch dim\n",
    "    q_values = Q_NETWORK.apply(params.online, obs)[0] # remove batch dim\n",
    "\n",
    "    action = select_epsilon_greedy_action(key, q_values, actor_state.count)\n",
    "    greedy_action = select_greedy_action(q_values)\n",
    "\n",
    "    action = jax.lax.select(\n",
    "        evaluation,\n",
    "        greedy_action,\n",
    "        action\n",
    "    )\n",
    "\n",
    "    next_actor_state = QActorState(actor_state.count + 1) # increment timestep counter\n",
    "\n",
    "    return action, next_actor_state\n",
    "\n",
    "Q_LEARNING_ACTOR_STATE = QActorState(0) # counter set to zero"
   ]
  },
  {
   "cell_type": "markdown",
   "metadata": {
    "id": "z884-1oNRGEr"
   },
   "source": [
    "### Обучение\n",
    "Теперь мы можем собрать все вместе, используя цикл агент-среда. Но сначала давайте объединим функцию выбора действия и функцию обучения для дополнительной скорости."
   ]
  },
  {
   "cell_type": "code",
   "execution_count": 157,
   "metadata": {
    "colab": {
     "base_uri": "https://localhost:8080/",
     "height": 680
    },
    "executionInfo": {
     "elapsed": 417333,
     "status": "ok",
     "timestamp": 1733574625939,
     "user": {
      "displayName": "Владислав Ладыгин",
      "userId": "15124880944112457695"
     },
     "user_tz": -300
    },
    "id": "xbdHDbd1RjM8",
    "outputId": "726acc6c-1d9a-41d3-9cd3-3e3a996c66a4"
   },
   "outputs": [
    {
     "name": "stdout",
     "output_type": "stream",
     "text": [
      "Starting training. This may take up to 8 minutes to complete.\n",
      "Episode: 0\tEpisode Return: 16.0\tAverage Episode Return: 16.0\tEvaluator Episode Return: 10.75\n",
      "Episode: 100\tEpisode Return: 11.0\tAverage Episode Return: 12.9\tEvaluator Episode Return: 9.125\n",
      "Episode: 200\tEpisode Return: 10.0\tAverage Episode Return: 9.8\tEvaluator Episode Return: 9.625\n",
      "Episode: 300\tEpisode Return: 11.0\tAverage Episode Return: 9.95\tEvaluator Episode Return: 9.75\n",
      "Episode: 400\tEpisode Return: 34.0\tAverage Episode Return: 27.25\tEvaluator Episode Return: 34.875\n",
      "Episode: 500\tEpisode Return: 37.0\tAverage Episode Return: 57.35\tEvaluator Episode Return: 45.125\n",
      "Episode: 600\tEpisode Return: 200.0\tAverage Episode Return: 172.65\tEvaluator Episode Return: 189.5\n",
      "Episode: 700\tEpisode Return: 200.0\tAverage Episode Return: 200.0\tEvaluator Episode Return: 200.0\n",
      "Episode: 800\tEpisode Return: 200.0\tAverage Episode Return: 200.0\tEvaluator Episode Return: 200.0\n",
      "Episode: 900\tEpisode Return: 200.0\tAverage Episode Return: 200.0\tEvaluator Episode Return: 200.0\n",
      "Episode: 1000\tEpisode Return: 200.0\tAverage Episode Return: 197.75\tEvaluator Episode Return: 200.0\n"
     ]
    },
    {
     "data": {
      "image/png": "[encoded data removed]",
      "text/plain": [
       "<Figure size 640x480 with 1 Axes>"
      ]
     },
     "metadata": {},
     "output_type": "display_data"
    }
   ],
   "source": [
    "# Jit functions\n",
    "q_learning_select_action_jit = jax.jit(q_learning_select_action)\n",
    "q_learn_jit = jax.jit(q_learn)\n",
    "\n",
    "# Run environment loop\n",
    "print(\"Starting training. This may take up to 8 minutes to complete.\")\n",
    "episode_returns, evaluator_returns = run_training_loop(\n",
    "                                        env_name,\n",
    "                                        Q_LEARNING_PARAMS,\n",
    "                                        q_learning_select_action_jit,\n",
    "                                        Q_LEARNING_ACTOR_STATE,\n",
    "                                        q_learn_jit,\n",
    "                                        Q_LEARNING_LEARN_STATE,\n",
    "                                        Q_LEARNING_MEMORY,\n",
    "                                        num_episodes=1001,\n",
    "                                        train_every_timestep=True, # do learning after every timestep\n",
    "                                        video_subdir=\"q_learning\"\n",
    "                                    )\n",
    "\n",
    "plt.plot(episode_returns)\n",
    "plt.xlabel(\"Episodes\")\n",
    "plt.ylabel(\"Episode Return\")\n",
    "plt.title(\"Deep Q-Learning\")\n",
    "plt.show()"
   ]
  },
  {
   "cell_type": "markdown",
   "metadata": {
    "id": "2k0-41wbpFDE"
   },
   "source": [
    "На этом этапе, как мы надеемся, приближенная Q-функция сошлась к приемлемой политике балансировки шеста в задаче CartPole."
   ]
  },
  {
   "cell_type": "code",
   "execution_count": 158,
   "metadata": {
    "colab": {
     "base_uri": "https://localhost:8080/",
     "height": 288
    },
    "executionInfo": {
     "elapsed": 878,
     "status": "ok",
     "timestamp": 1733575044400,
     "user": {
      "displayName": "Владислав Ладыгин",
      "userId": "15124880944112457695"
     },
     "user_tz": -300
    },
    "id": "t4v0ZbB4FQUs",
    "outputId": "4083799c-cf5a-4c3a-cfe5-7758c55aae42"
   },
   "outputs": [
    {
     "data": {
      "text/html": [
       "\n",
       "<video width=400 controls>\n",
       "      <source src=\"data:video/mp4;base64,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\" type=\"video/mp4\">\n",
       "</video>\n"
      ],
      "text/plain": [
       "<IPython.core.display.HTML object>"
      ]
     },
     "execution_count": 158,
     "metadata": {},
     "output_type": "execute_result"
    }
   ],
   "source": [
    "#@title Визуализация политики\n",
    "#@markdown Выберите номер эпизода, кратный 100 и меньший или равный 1000, и **запустите эту ячейку**.\n",
    "episode_number = 900 #@param {type:\"number\"}\n",
    "\n",
    "assert (episode_number % 100) == 0, \"Episode number must be a multiple of 100 since we only record every 100th episode.\"\n",
    "assert episode_number < 1001, \"Episode number must be less than or equal to 1000\"\n",
    "\n",
    "\n",
    "eval_episode_number = int(episode_number / 100 * 8)\n",
    "video_path = f\"./video/q_learning/eval/rl-video-episode-{eval_episode_number}.mp4\"\n",
    "\n",
    "mp4 = open(video_path,'rb').read()\n",
    "data_url = \"data:video/mp4;base64,\" + b64encode(mp4).decode()\n",
    "HTML(\"\"\"\n",
    "<video width=400 controls>\n",
    "      <source src=\"%s\" type=\"video/mp4\">\n",
    "</video>\n",
    "\"\"\" % data_url)"
   ]
  },
  {
   "cell_type": "markdown",
   "metadata": {
    "id": "fV3YG7QOZD-B"
   },
   "source": [
    "Кроме того, существует множество алгоритмов RL, которые вносят существенные улучшения в REINFORCE и Deep Q-Learning. См. эти ресурсы:\n",
    "* [REINFORCE с базовым уровнем](https://spinningup.openai.com/en/latest/spinningup/rl_intro3.html#baselines-in-policy-gradients)\n",
    "* [Double Deep Q-Network](https://arxiv.org/pdf/1509.06461.pdf)\n",
    "* [Proximal Policy Optimisation (PPO)](https://arxiv.org/pdf/1707.06347.pdf)\n",
    "\n",
    "Если вы ищете более углубленный онлайн-курс по RL, вы можете ознакомиться с этими курсами:\n",
    "* [Reinforcement Learning Foundations on LinkedIn Learning](https://www.linkedin.com/learning/reinforcement-learning-foundations) (создано одним из наших собственных преподавателей, Хаулатом Абдулхакимом)\n",
    "* [Введение в Reinforcement Learning on FreeCodeCamp](https://www.freecodecamp.org/news/an-introduction-to-reinforcement-learning-4339519de419/)\n",
    "* [Специализация обучения с подкреплением на Coursera](https://www.coursera.org/specializations/reinforcement-learning)\n",
    "\n",
    "Наконец, самый влиятельный учебник по обучению с подкреплением доступен бесплатно онлайн:\n",
    "* [Обучение с подкреплением: введение](http://incompleteideas.net/book/the-book-2nd.html) Ричарда С. Саттона и Эндрю Г. Барто\n",
    "\n",
    "\n",
    "**Ссылки:**\n",
    "\n",
    "* [OpenAI Spinning Up](https://spinningup.openai.com/en/latest/)\n",
    "* [Deep Q-Network]()"
   ]
  },
  {
   "cell_type": "code",
   "execution_count": null,
   "metadata": {},
   "outputs": [],
   "source": []
  }
 ],
 "metadata": {
  "colab": {
   "gpuType": "T4",
   "provenance": [
    {
     "file_id": "1ha6BBGiFcNepJ3iJqMGNED1C_vOfxhYP",
     "timestamp": 1733572858791
    }
   ]
  },
  "kernelspec": {
   "display_name": "Python 3",
   "name": "python3"
  },
  "language_info": {
   "codemirror_mode": {
    "name": "ipython",
    "version": 3
   },
   "file_extension": ".py",
   "mimetype": "text/x-python",
   "name": "python",
   "nbconvert_exporter": "python",
   "pygments_lexer": "ipython3",
   "version": "3.11.3"
  },
  "vscode": {
   "interpreter": {
    "hash": "0f35138c66f99be0fd7a1210bb4aa94a6fbaa5f29d51ad43aec0e0ea0ff050f0"
   }
  }
 },
 "nbformat": 4,
 "nbformat_minor": 0
}
